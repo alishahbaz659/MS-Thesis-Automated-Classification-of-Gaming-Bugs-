{
 "cells": [
  {
   "cell_type": "markdown",
   "metadata": {},
   "source": [
    "Let's now import the required libraries and load the dataset into our application. The following script imports the required libraries:"
   ]
  },
  {
   "cell_type": "markdown",
   "metadata": {},
   "source": [
    "From\n",
    "https://stackabuse.com/python-for-nlp-multi-label-text-classification-with-keras/"
   ]
  },
  {
   "cell_type": "code",
   "execution_count": 45,
   "metadata": {},
   "outputs": [],
   "source": [
    "from numpy import array\n",
    "from keras.preprocessing.text import one_hot\n",
    "from keras.preprocessing.sequence import pad_sequences\n",
    "from keras.models import Sequential\n",
    "from keras.layers.core import Activation, Dropout, Dense\n",
    "from keras.layers import Flatten, LSTM\n",
    "from keras.layers import GlobalMaxPooling1D\n",
    "from keras.models import Model\n",
    "from keras.layers.embeddings import Embedding\n",
    "from sklearn.model_selection import train_test_split\n",
    "from keras.preprocessing.text import Tokenizer\n",
    "from keras.layers import Input\n",
    "from keras.layers.merge import Concatenate\n",
    "\n",
    "import pandas as pd\n",
    "import numpy as np\n",
    "import re\n",
    "\n",
    "import matplotlib.pyplot as plt"
   ]
  },
  {
   "cell_type": "markdown",
   "metadata": {},
   "source": [
    "Let's now load the dataset into the memory:"
   ]
  },
  {
   "cell_type": "code",
   "execution_count": 46,
   "metadata": {},
   "outputs": [],
   "source": [
    "data_set = pd.read_csv(\"../Dataset/cleanedReviewsDateset100.csv\")"
   ]
  },
  {
   "cell_type": "markdown",
   "metadata": {},
   "source": [
    "The following script displays the shape of the dataset and it also prints the header of the dataset:"
   ]
  },
  {
   "cell_type": "code",
   "execution_count": 47,
   "metadata": {},
   "outputs": [
    {
     "name": "stdout",
     "output_type": "stream",
     "text": [
      "(99, 28)\n"
     ]
    },
    {
     "data": {
      "text/html": [
       "<div>\n",
       "<style scoped>\n",
       "    .dataframe tbody tr th:only-of-type {\n",
       "        vertical-align: middle;\n",
       "    }\n",
       "\n",
       "    .dataframe tbody tr th {\n",
       "        vertical-align: top;\n",
       "    }\n",
       "\n",
       "    .dataframe thead th {\n",
       "        text-align: right;\n",
       "    }\n",
       "</style>\n",
       "<table border=\"1\" class=\"dataframe\">\n",
       "  <thead>\n",
       "    <tr style=\"text-align: right;\">\n",
       "      <th></th>\n",
       "      <th>product_id</th>\n",
       "      <th>page</th>\n",
       "      <th>page_order</th>\n",
       "      <th>recommended</th>\n",
       "      <th>date</th>\n",
       "      <th>bugType</th>\n",
       "      <th>haveBugs</th>\n",
       "      <th>invalidPositionOverTime</th>\n",
       "      <th>implementationResponseIssue</th>\n",
       "      <th>invalidContextOverTime</th>\n",
       "      <th>...</th>\n",
       "      <th>objectOutOfBoundForSpecificState</th>\n",
       "      <th>artificialStupidity</th>\n",
       "      <th>invalidValueChange</th>\n",
       "      <th>invalidGraphicalRespresentation</th>\n",
       "      <th>text</th>\n",
       "      <th>hours</th>\n",
       "      <th>username</th>\n",
       "      <th>products</th>\n",
       "      <th>early_access</th>\n",
       "      <th>products_ismissing</th>\n",
       "    </tr>\n",
       "  </thead>\n",
       "  <tbody>\n",
       "    <tr>\n",
       "      <th>0</th>\n",
       "      <td>1144200</td>\n",
       "      <td>1</td>\n",
       "      <td>2</td>\n",
       "      <td>True</td>\n",
       "      <td>01-01-22</td>\n",
       "      <td>na</td>\n",
       "      <td>0</td>\n",
       "      <td>0</td>\n",
       "      <td>0</td>\n",
       "      <td>0</td>\n",
       "      <td>...</td>\n",
       "      <td>0</td>\n",
       "      <td>0</td>\n",
       "      <td>0</td>\n",
       "      <td>0</td>\n",
       "      <td>love the game and would give it a 10 out 10 bu...</td>\n",
       "      <td>35.6</td>\n",
       "      <td>philcrest</td>\n",
       "      <td>31</td>\n",
       "      <td>True</td>\n",
       "      <td>False</td>\n",
       "    </tr>\n",
       "    <tr>\n",
       "      <th>1</th>\n",
       "      <td>108600</td>\n",
       "      <td>1</td>\n",
       "      <td>0</td>\n",
       "      <td>True</td>\n",
       "      <td>01-01-22</td>\n",
       "      <td>na</td>\n",
       "      <td>0</td>\n",
       "      <td>0</td>\n",
       "      <td>0</td>\n",
       "      <td>0</td>\n",
       "      <td>...</td>\n",
       "      <td>0</td>\n",
       "      <td>0</td>\n",
       "      <td>0</td>\n",
       "      <td>0</td>\n",
       "      <td>in what can only be described as a simplistic ...</td>\n",
       "      <td>6.5</td>\n",
       "      <td>ultramarine716</td>\n",
       "      <td>17</td>\n",
       "      <td>True</td>\n",
       "      <td>False</td>\n",
       "    </tr>\n",
       "    <tr>\n",
       "      <th>2</th>\n",
       "      <td>108600</td>\n",
       "      <td>1</td>\n",
       "      <td>7</td>\n",
       "      <td>False</td>\n",
       "      <td>01-01-22</td>\n",
       "      <td>invalid event occurance over time</td>\n",
       "      <td>1</td>\n",
       "      <td>0</td>\n",
       "      <td>0</td>\n",
       "      <td>0</td>\n",
       "      <td>...</td>\n",
       "      <td>0</td>\n",
       "      <td>0</td>\n",
       "      <td>0</td>\n",
       "      <td>0</td>\n",
       "      <td>fun game ruined by overly punishing update mor...</td>\n",
       "      <td>180.9</td>\n",
       "      <td>kobogen</td>\n",
       "      <td>157</td>\n",
       "      <td>True</td>\n",
       "      <td>False</td>\n",
       "    </tr>\n",
       "    <tr>\n",
       "      <th>3</th>\n",
       "      <td>108600</td>\n",
       "      <td>1</td>\n",
       "      <td>8</td>\n",
       "      <td>True</td>\n",
       "      <td>01-01-22</td>\n",
       "      <td>na</td>\n",
       "      <td>0</td>\n",
       "      <td>0</td>\n",
       "      <td>0</td>\n",
       "      <td>0</td>\n",
       "      <td>...</td>\n",
       "      <td>0</td>\n",
       "      <td>0</td>\n",
       "      <td>0</td>\n",
       "      <td>0</td>\n",
       "      <td>im a fan of 1st person graphics and a sucker f...</td>\n",
       "      <td>711.7</td>\n",
       "      <td>intorpere</td>\n",
       "      <td>93</td>\n",
       "      <td>True</td>\n",
       "      <td>False</td>\n",
       "    </tr>\n",
       "    <tr>\n",
       "      <th>4</th>\n",
       "      <td>1086940</td>\n",
       "      <td>1</td>\n",
       "      <td>0</td>\n",
       "      <td>True</td>\n",
       "      <td>01-01-22</td>\n",
       "      <td>na</td>\n",
       "      <td>0</td>\n",
       "      <td>0</td>\n",
       "      <td>0</td>\n",
       "      <td>0</td>\n",
       "      <td>...</td>\n",
       "      <td>0</td>\n",
       "      <td>0</td>\n",
       "      <td>0</td>\n",
       "      <td>0</td>\n",
       "      <td>great game in the making will be excessively e...</td>\n",
       "      <td>24.9</td>\n",
       "      <td>elkraf</td>\n",
       "      <td>46</td>\n",
       "      <td>True</td>\n",
       "      <td>False</td>\n",
       "    </tr>\n",
       "  </tbody>\n",
       "</table>\n",
       "<p>5 rows × 28 columns</p>\n",
       "</div>"
      ],
      "text/plain": [
       "   product_id  page  page_order  recommended      date  \\\n",
       "0     1144200     1           2         True  01-01-22   \n",
       "1      108600     1           0         True  01-01-22   \n",
       "2      108600     1           7        False  01-01-22   \n",
       "3      108600     1           8         True  01-01-22   \n",
       "4     1086940     1           0         True  01-01-22   \n",
       "\n",
       "                             bugType  haveBugs  invalidPositionOverTime  \\\n",
       "0                                 na         0                        0   \n",
       "1                                 na         0                        0   \n",
       "2  invalid event occurance over time         1                        0   \n",
       "3                                 na         0                        0   \n",
       "4                                 na         0                        0   \n",
       "\n",
       "   implementationResponseIssue  invalidContextOverTime  ...  \\\n",
       "0                            0                       0  ...   \n",
       "1                            0                       0  ...   \n",
       "2                            0                       0  ...   \n",
       "3                            0                       0  ...   \n",
       "4                            0                       0  ...   \n",
       "\n",
       "   objectOutOfBoundForSpecificState  artificialStupidity  invalidValueChange  \\\n",
       "0                                 0                    0                   0   \n",
       "1                                 0                    0                   0   \n",
       "2                                 0                    0                   0   \n",
       "3                                 0                    0                   0   \n",
       "4                                 0                    0                   0   \n",
       "\n",
       "   invalidGraphicalRespresentation  \\\n",
       "0                                0   \n",
       "1                                0   \n",
       "2                                0   \n",
       "3                                0   \n",
       "4                                0   \n",
       "\n",
       "                                                text  hours        username  \\\n",
       "0  love the game and would give it a 10 out 10 bu...   35.6       philcrest   \n",
       "1  in what can only be described as a simplistic ...    6.5  ultramarine716   \n",
       "2  fun game ruined by overly punishing update mor...  180.9         kobogen   \n",
       "3  im a fan of 1st person graphics and a sucker f...  711.7       intorpere   \n",
       "4  great game in the making will be excessively e...   24.9          elkraf   \n",
       "\n",
       "   products  early_access  products_ismissing  \n",
       "0        31          True               False  \n",
       "1        17          True               False  \n",
       "2       157          True               False  \n",
       "3        93          True               False  \n",
       "4        46          True               False  \n",
       "\n",
       "[5 rows x 28 columns]"
      ]
     },
     "execution_count": 47,
     "metadata": {},
     "output_type": "execute_result"
    }
   ],
   "source": [
    "print(data_set.shape)\n",
    "\n",
    "data_set.head()"
   ]
  },
  {
   "cell_type": "markdown",
   "metadata": {},
   "source": [
    "Let's now plot the comment count for each label. To do so, we will first filter all the label or output columns."
   ]
  },
  {
   "cell_type": "code",
   "execution_count": 48,
   "metadata": {},
   "outputs": [
    {
     "data": {
      "text/html": [
       "<div>\n",
       "<style scoped>\n",
       "    .dataframe tbody tr th:only-of-type {\n",
       "        vertical-align: middle;\n",
       "    }\n",
       "\n",
       "    .dataframe tbody tr th {\n",
       "        vertical-align: top;\n",
       "    }\n",
       "\n",
       "    .dataframe thead th {\n",
       "        text-align: right;\n",
       "    }\n",
       "</style>\n",
       "<table border=\"1\" class=\"dataframe\">\n",
       "  <thead>\n",
       "    <tr style=\"text-align: right;\">\n",
       "      <th></th>\n",
       "      <th>invalidPositionOverTime</th>\n",
       "      <th>implementationResponseIssue</th>\n",
       "      <th>invalidContextOverTime</th>\n",
       "      <th>interruptedEvent</th>\n",
       "      <th>invalidEventOccurraceOverTime</th>\n",
       "      <th>actionNotPossible</th>\n",
       "      <th>actionWhenNotAllowed</th>\n",
       "      <th>informationOutOfOrder</th>\n",
       "      <th>lackOfRequiredInformation</th>\n",
       "      <th>invalidInfoAccess</th>\n",
       "      <th>objectOutOfBoundForAnyState</th>\n",
       "      <th>objectOutOfBoundForSpecificState</th>\n",
       "      <th>artificialStupidity</th>\n",
       "      <th>invalidValueChange</th>\n",
       "      <th>invalidGraphicalRespresentation</th>\n",
       "    </tr>\n",
       "  </thead>\n",
       "  <tbody>\n",
       "    <tr>\n",
       "      <th>0</th>\n",
       "      <td>0</td>\n",
       "      <td>0</td>\n",
       "      <td>0</td>\n",
       "      <td>0</td>\n",
       "      <td>0</td>\n",
       "      <td>0</td>\n",
       "      <td>0</td>\n",
       "      <td>0</td>\n",
       "      <td>0</td>\n",
       "      <td>0</td>\n",
       "      <td>0</td>\n",
       "      <td>0</td>\n",
       "      <td>0</td>\n",
       "      <td>0</td>\n",
       "      <td>0</td>\n",
       "    </tr>\n",
       "    <tr>\n",
       "      <th>1</th>\n",
       "      <td>0</td>\n",
       "      <td>0</td>\n",
       "      <td>0</td>\n",
       "      <td>0</td>\n",
       "      <td>0</td>\n",
       "      <td>0</td>\n",
       "      <td>0</td>\n",
       "      <td>0</td>\n",
       "      <td>0</td>\n",
       "      <td>0</td>\n",
       "      <td>0</td>\n",
       "      <td>0</td>\n",
       "      <td>0</td>\n",
       "      <td>0</td>\n",
       "      <td>0</td>\n",
       "    </tr>\n",
       "    <tr>\n",
       "      <th>2</th>\n",
       "      <td>0</td>\n",
       "      <td>0</td>\n",
       "      <td>0</td>\n",
       "      <td>0</td>\n",
       "      <td>1</td>\n",
       "      <td>0</td>\n",
       "      <td>0</td>\n",
       "      <td>0</td>\n",
       "      <td>0</td>\n",
       "      <td>0</td>\n",
       "      <td>0</td>\n",
       "      <td>0</td>\n",
       "      <td>0</td>\n",
       "      <td>0</td>\n",
       "      <td>0</td>\n",
       "    </tr>\n",
       "    <tr>\n",
       "      <th>3</th>\n",
       "      <td>0</td>\n",
       "      <td>0</td>\n",
       "      <td>0</td>\n",
       "      <td>0</td>\n",
       "      <td>0</td>\n",
       "      <td>0</td>\n",
       "      <td>0</td>\n",
       "      <td>0</td>\n",
       "      <td>0</td>\n",
       "      <td>0</td>\n",
       "      <td>0</td>\n",
       "      <td>0</td>\n",
       "      <td>0</td>\n",
       "      <td>0</td>\n",
       "      <td>0</td>\n",
       "    </tr>\n",
       "    <tr>\n",
       "      <th>4</th>\n",
       "      <td>0</td>\n",
       "      <td>0</td>\n",
       "      <td>0</td>\n",
       "      <td>0</td>\n",
       "      <td>0</td>\n",
       "      <td>0</td>\n",
       "      <td>0</td>\n",
       "      <td>0</td>\n",
       "      <td>0</td>\n",
       "      <td>0</td>\n",
       "      <td>0</td>\n",
       "      <td>0</td>\n",
       "      <td>0</td>\n",
       "      <td>0</td>\n",
       "      <td>0</td>\n",
       "    </tr>\n",
       "  </tbody>\n",
       "</table>\n",
       "</div>"
      ],
      "text/plain": [
       "   invalidPositionOverTime  implementationResponseIssue  \\\n",
       "0                        0                            0   \n",
       "1                        0                            0   \n",
       "2                        0                            0   \n",
       "3                        0                            0   \n",
       "4                        0                            0   \n",
       "\n",
       "   invalidContextOverTime  interruptedEvent  invalidEventOccurraceOverTime  \\\n",
       "0                       0                 0                              0   \n",
       "1                       0                 0                              0   \n",
       "2                       0                 0                              1   \n",
       "3                       0                 0                              0   \n",
       "4                       0                 0                              0   \n",
       "\n",
       "   actionNotPossible  actionWhenNotAllowed  informationOutOfOrder  \\\n",
       "0                  0                     0                      0   \n",
       "1                  0                     0                      0   \n",
       "2                  0                     0                      0   \n",
       "3                  0                     0                      0   \n",
       "4                  0                     0                      0   \n",
       "\n",
       "   lackOfRequiredInformation  invalidInfoAccess  objectOutOfBoundForAnyState  \\\n",
       "0                          0                  0                            0   \n",
       "1                          0                  0                            0   \n",
       "2                          0                  0                            0   \n",
       "3                          0                  0                            0   \n",
       "4                          0                  0                            0   \n",
       "\n",
       "   objectOutOfBoundForSpecificState  artificialStupidity  invalidValueChange  \\\n",
       "0                                 0                    0                   0   \n",
       "1                                 0                    0                   0   \n",
       "2                                 0                    0                   0   \n",
       "3                                 0                    0                   0   \n",
       "4                                 0                    0                   0   \n",
       "\n",
       "   invalidGraphicalRespresentation  \n",
       "0                                0  \n",
       "1                                0  \n",
       "2                                0  \n",
       "3                                0  \n",
       "4                                0  "
      ]
     },
     "execution_count": 48,
     "metadata": {},
     "output_type": "execute_result"
    }
   ],
   "source": [
    "bug_categories_labels = data_set[[\"invalidPositionOverTime\", \"implementationResponseIssue\", \"invalidContextOverTime\", \"interruptedEvent\", \n",
    "                        \"invalidEventOccurraceOverTime\",\"actionNotPossible\",\"actionWhenNotAllowed\",\"informationOutOfOrder\",\"lackOfRequiredInformation\",\n",
    "                        \"invalidInfoAccess\",\"objectOutOfBoundForAnyState\",\"objectOutOfBoundForSpecificState\",\"artificialStupidity\",\"invalidValueChange\",\n",
    "                        \"invalidGraphicalRespresentation\"]]\n",
    "bug_categories_labels.head()"
   ]
  },
  {
   "cell_type": "markdown",
   "metadata": {},
   "source": [
    "will plot bar plots that show the total comment counts for different labels."
   ]
  },
  {
   "cell_type": "code",
   "execution_count": 49,
   "metadata": {},
   "outputs": [
    {
     "data": {
      "text/plain": [
       "<AxesSubplot:>"
      ]
     },
     "execution_count": 49,
     "metadata": {},
     "output_type": "execute_result"
    },
    {
     "data": {
      "image/png": "[encoded data removed]",
      "text/plain": [
       "<Figure size 720x576 with 1 Axes>"
      ]
     },
     "metadata": {
      "needs_background": "light"
     },
     "output_type": "display_data"
    }
   ],
   "source": [
    "fig_size = plt.rcParams[\"figure.figsize\"]\n",
    "fig_size[0] = 10\n",
    "fig_size[1] = 8\n",
    "plt.rcParams[\"figure.figsize\"] = fig_size\n",
    "\n",
    "bug_categories_labels.sum(axis=0).plot.bar()"
   ]
  },
  {
   "cell_type": "markdown",
   "metadata": {},
   "source": [
    "Creating Multi-label Text Classification Models:\n",
    "There are two ways to create multi-label classification models: Using single dense output layer and using multiple dense output layers.\n",
    "\n",
    "In the first approach, we can use a single dense layer with six outputs with a sigmoid activation functions and binary cross entropy loss functions. Each neuron in the output dense layer will represent one of the six output labels. The sigmoid activation function will return a value between 0 and 1 for each neuron. If any neuron's output value is greater than 0.5, it is assumed that the comment belongs to the class represented by that particular neuron.\n",
    "\n",
    "In the second approach we will create one dense output layer for each label. We will have a total of 6 dense layers in the output. Each layer will have its own sigmoid function."
   ]
  },
  {
   "cell_type": "markdown",
   "metadata": {},
   "source": [
    "Multi-lable Text Classification Model with Single Output Layer:"
   ]
  },
  {
   "cell_type": "code",
   "execution_count": 50,
   "metadata": {},
   "outputs": [],
   "source": [
    "def preprocess_text(sen):\n",
    "    # Remove punctuations and numbers\n",
    "    sentence = re.sub('[^a-zA-Z]', ' ', sen)\n",
    "\n",
    "    # Single character removal\n",
    "    sentence = re.sub(r\"\\s+[a-zA-Z]\\s+\", ' ', sentence)\n",
    "\n",
    "    # Removing multiple spaces\n",
    "    sentence = re.sub(r'\\s+', ' ', sentence)\n",
    "\n",
    "    return sentence"
   ]
  },
  {
   "cell_type": "markdown",
   "metadata": {},
   "source": [
    "In the next step we will create our input and output set."
   ]
  },
  {
   "cell_type": "code",
   "execution_count": 51,
   "metadata": {},
   "outputs": [],
   "source": [
    "X = []\n",
    "sentences = list(data_set[\"text\"])\n",
    "for sen in sentences:\n",
    "    X.append(preprocess_text(sen))\n",
    "\n",
    "y = bug_categories_labels.values"
   ]
  },
  {
   "cell_type": "markdown",
   "metadata": {},
   "source": [
    "Here we do not need to perform any one-hot encoding because our output labels are already in the form of one-hot encoded vectors.\n",
    "\n",
    "In the next step, we will divide our data into training and test sets:"
   ]
  },
  {
   "cell_type": "code",
   "execution_count": 52,
   "metadata": {},
   "outputs": [],
   "source": [
    "X_train, X_test, y_train, y_test = train_test_split(X, y, train_size=89,test_size=0.10, random_state=42)"
   ]
  },
  {
   "cell_type": "markdown",
   "metadata": {},
   "source": [
    "We need to convert text inputs into embedded vectors."
   ]
  },
  {
   "cell_type": "code",
   "execution_count": 53,
   "metadata": {},
   "outputs": [],
   "source": [
    "tokenizer = Tokenizer(num_words=5000)\n",
    "tokenizer.fit_on_texts(X_train)\n",
    "\n",
    "X_train = tokenizer.texts_to_sequences(X_train)\n",
    "X_test = tokenizer.texts_to_sequences(X_test)\n",
    "\n",
    "vocab_size = len(tokenizer.word_index) + 1\n",
    "\n",
    "maxlen = 200\n",
    "\n",
    "X_train = pad_sequences(X_train, padding='post', maxlen=maxlen)\n",
    "X_test = pad_sequences(X_test, padding='post', maxlen=maxlen)"
   ]
  },
  {
   "cell_type": "markdown",
   "metadata": {},
   "source": [
    "We will be using GloVe word embeddings to convert text inputs to their numeric counterparts."
   ]
  },
  {
   "cell_type": "code",
   "execution_count": 54,
   "metadata": {},
   "outputs": [],
   "source": [
    "from numpy import array\n",
    "from numpy import asarray\n",
    "from numpy import zeros\n",
    "\n",
    "embeddings_dictionary = dict()\n",
    "\n",
    "glove_file = open('../kaggle/glove.6B.100d.txt', encoding=\"utf8\")\n",
    "\n",
    "for line in glove_file:\n",
    "    records = line.split()\n",
    "    word = records[0]\n",
    "    vector_dimensions = asarray(records[1:], dtype='float32')\n",
    "    embeddings_dictionary[word] = vector_dimensions\n",
    "glove_file.close()\n",
    "\n",
    "embedding_matrix = zeros((vocab_size, 100))\n",
    "for word, index in tokenizer.word_index.items():\n",
    "    embedding_vector = embeddings_dictionary.get(word)\n",
    "    if embedding_vector is not None:\n",
    "        embedding_matrix[index] = embedding_vector"
   ]
  },
  {
   "cell_type": "markdown",
   "metadata": {},
   "source": [
    "The following script creates the model. Our model will have one input layer, one embedding layer, one LSTM layer with 128 neurons and one output layer with 6 neurons since we have 6 labels in the output."
   ]
  },
  {
   "cell_type": "code",
   "execution_count": 55,
   "metadata": {},
   "outputs": [],
   "source": [
    "deep_inputs = Input(shape=(maxlen,))\n",
    "embedding_layer = Embedding(vocab_size, 100, weights=[embedding_matrix], trainable=False)(deep_inputs)\n",
    "LSTM_Layer_1 = LSTM(128)(embedding_layer)\n",
    "dense_layer_1 = Dense(15, activation='sigmoid')(LSTM_Layer_1)\n",
    "model = Model(inputs=deep_inputs, outputs=dense_layer_1)\n",
    "\n",
    "model.compile(loss='binary_crossentropy', optimizer='adam', metrics=['acc'])"
   ]
  },
  {
   "cell_type": "markdown",
   "metadata": {},
   "source": [
    "Let's print the model summary:"
   ]
  },
  {
   "cell_type": "code",
   "execution_count": 56,
   "metadata": {},
   "outputs": [
    {
     "name": "stdout",
     "output_type": "stream",
     "text": [
      "Model: \"model_2\"\n",
      "_________________________________________________________________\n",
      " Layer (type)                Output Shape              Param #   \n",
      "=================================================================\n",
      " input_3 (InputLayer)        [(None, 200)]             0         \n",
      "                                                                 \n",
      " embedding_2 (Embedding)     (None, 200, 100)          185500    \n",
      "                                                                 \n",
      " lstm_2 (LSTM)               (None, 128)               117248    \n",
      "                                                                 \n",
      " dense_2 (Dense)             (None, 15)                1935      \n",
      "                                                                 \n",
      "=================================================================\n",
      "Total params: 304,683\n",
      "Trainable params: 119,183\n",
      "Non-trainable params: 185,500\n",
      "_________________________________________________________________\n",
      "None\n"
     ]
    }
   ],
   "source": [
    "print(model.summary())"
   ]
  },
  {
   "cell_type": "markdown",
   "metadata": {},
   "source": [
    "The following script prints the architecture of our neural network:"
   ]
  },
  {
   "cell_type": "code",
   "execution_count": 57,
   "metadata": {},
   "outputs": [
    {
     "data": {
      "image/png": "[encoded data removed]",
      "text/plain": [
       "<IPython.core.display.Image object>"
      ]
     },
     "execution_count": 57,
     "metadata": {},
     "output_type": "execute_result"
    }
   ],
   "source": [
    "from keras.utils.vis_utils import plot_model\n",
    "plot_model(model, to_file='model_plot4a.png', show_shapes=True, show_layer_names=True)"
   ]
  },
  {
   "cell_type": "markdown",
   "metadata": {},
   "source": [
    "Let's now train our model:"
   ]
  },
  {
   "cell_type": "code",
   "execution_count": 58,
   "metadata": {},
   "outputs": [
    {
     "name": "stdout",
     "output_type": "stream",
     "text": [
      "Epoch 1/100\n",
      "1/1 [==============================] - 2s 2s/step - loss: 0.6958 - acc: 0.0423 - val_loss: 0.6890 - val_acc: 0.0000e+00\n",
      "Epoch 2/100\n",
      "1/1 [==============================] - 0s 174ms/step - loss: 0.6863 - acc: 0.0141 - val_loss: 0.6817 - val_acc: 0.0000e+00\n",
      "Epoch 3/100\n",
      "1/1 [==============================] - 0s 174ms/step - loss: 0.6777 - acc: 0.0141 - val_loss: 0.6747 - val_acc: 0.0000e+00\n",
      "Epoch 4/100\n",
      "1/1 [==============================] - 0s 176ms/step - loss: 0.6693 - acc: 0.0141 - val_loss: 0.6677 - val_acc: 0.0000e+00\n",
      "Epoch 5/100\n",
      "1/1 [==============================] - 0s 165ms/step - loss: 0.6609 - acc: 0.0141 - val_loss: 0.6605 - val_acc: 0.0000e+00\n",
      "Epoch 6/100\n",
      "1/1 [==============================] - 0s 165ms/step - loss: 0.6521 - acc: 0.0141 - val_loss: 0.6530 - val_acc: 0.0000e+00\n",
      "Epoch 7/100\n",
      "1/1 [==============================] - 0s 173ms/step - loss: 0.6425 - acc: 0.0141 - val_loss: 0.6445 - val_acc: 0.0000e+00\n",
      "Epoch 8/100\n",
      "1/1 [==============================] - 0s 178ms/step - loss: 0.6313 - acc: 0.0141 - val_loss: 0.6333 - val_acc: 0.0000e+00\n",
      "Epoch 9/100\n",
      "1/1 [==============================] - 0s 184ms/step - loss: 0.6165 - acc: 0.0141 - val_loss: 0.6118 - val_acc: 0.0000e+00\n",
      "Epoch 10/100\n",
      "1/1 [==============================] - 0s 164ms/step - loss: 0.5895 - acc: 0.0282 - val_loss: 0.4432 - val_acc: 0.0000e+00\n",
      "Epoch 11/100\n",
      "1/1 [==============================] - 0s 167ms/step - loss: 0.4225 - acc: 0.0282 - val_loss: 0.3273 - val_acc: 0.0000e+00\n",
      "Epoch 12/100\n",
      "1/1 [==============================] - 0s 181ms/step - loss: 0.3057 - acc: 0.0423 - val_loss: 0.2849 - val_acc: 0.0000e+00\n",
      "Epoch 13/100\n",
      "1/1 [==============================] - 0s 168ms/step - loss: 0.2601 - acc: 0.0423 - val_loss: 0.2612 - val_acc: 0.0000e+00\n",
      "Epoch 14/100\n",
      "1/1 [==============================] - 0s 173ms/step - loss: 0.2332 - acc: 0.0423 - val_loss: 0.2451 - val_acc: 0.0000e+00\n",
      "Epoch 15/100\n",
      "1/1 [==============================] - 0s 180ms/step - loss: 0.2142 - acc: 0.0563 - val_loss: 0.2330 - val_acc: 0.0000e+00\n",
      "Epoch 16/100\n",
      "1/1 [==============================] - 0s 178ms/step - loss: 0.1994 - acc: 0.0563 - val_loss: 0.2232 - val_acc: 0.0000e+00\n",
      "Epoch 17/100\n",
      "1/1 [==============================] - 0s 176ms/step - loss: 0.1874 - acc: 0.0563 - val_loss: 0.2151 - val_acc: 0.0000e+00\n",
      "Epoch 18/100\n",
      "1/1 [==============================] - 0s 175ms/step - loss: 0.1773 - acc: 0.0563 - val_loss: 0.2083 - val_acc: 0.0000e+00\n",
      "Epoch 19/100\n",
      "1/1 [==============================] - 0s 180ms/step - loss: 0.1688 - acc: 0.0563 - val_loss: 0.2026 - val_acc: 0.0000e+00\n",
      "Epoch 20/100\n",
      "1/1 [==============================] - 0s 170ms/step - loss: 0.1617 - acc: 0.0563 - val_loss: 0.1978 - val_acc: 0.0000e+00\n",
      "Epoch 21/100\n",
      "1/1 [==============================] - 0s 193ms/step - loss: 0.1557 - acc: 0.0563 - val_loss: 0.1937 - val_acc: 0.0000e+00\n",
      "Epoch 22/100\n",
      "1/1 [==============================] - 0s 197ms/step - loss: 0.1508 - acc: 0.0563 - val_loss: 0.1904 - val_acc: 0.0000e+00\n",
      "Epoch 23/100\n",
      "1/1 [==============================] - 0s 174ms/step - loss: 0.1468 - acc: 0.0563 - val_loss: 0.1876 - val_acc: 0.0000e+00\n",
      "Epoch 24/100\n",
      "1/1 [==============================] - 0s 163ms/step - loss: 0.1437 - acc: 0.0563 - val_loss: 0.1851 - val_acc: 0.0000e+00\n",
      "Epoch 25/100\n",
      "1/1 [==============================] - 0s 165ms/step - loss: 0.1412 - acc: 0.0563 - val_loss: 0.1827 - val_acc: 0.0000e+00\n",
      "Epoch 26/100\n",
      "1/1 [==============================] - 0s 170ms/step - loss: 0.1391 - acc: 0.0563 - val_loss: 0.1806 - val_acc: 0.1111\n",
      "Epoch 27/100\n",
      "1/1 [==============================] - 0s 179ms/step - loss: 0.1375 - acc: 0.0986 - val_loss: 0.1787 - val_acc: 0.1111\n",
      "Epoch 28/100\n",
      "1/1 [==============================] - 0s 163ms/step - loss: 0.1362 - acc: 0.0845 - val_loss: 0.1771 - val_acc: 0.1111\n",
      "Epoch 29/100\n",
      "1/1 [==============================] - 0s 166ms/step - loss: 0.1351 - acc: 0.0845 - val_loss: 0.1757 - val_acc: 0.1111\n",
      "Epoch 30/100\n",
      "1/1 [==============================] - 0s 168ms/step - loss: 0.1342 - acc: 0.0845 - val_loss: 0.1745 - val_acc: 0.1111\n",
      "Epoch 31/100\n",
      "1/1 [==============================] - 0s 166ms/step - loss: 0.1333 - acc: 0.0704 - val_loss: 0.1734 - val_acc: 0.1111\n",
      "Epoch 32/100\n",
      "1/1 [==============================] - 0s 166ms/step - loss: 0.1326 - acc: 0.0704 - val_loss: 0.1724 - val_acc: 0.1111\n",
      "Epoch 33/100\n",
      "1/1 [==============================] - 0s 169ms/step - loss: 0.1319 - acc: 0.0704 - val_loss: 0.1714 - val_acc: 0.1111\n",
      "Epoch 34/100\n",
      "1/1 [==============================] - 0s 168ms/step - loss: 0.1313 - acc: 0.0704 - val_loss: 0.1706 - val_acc: 0.1111\n",
      "Epoch 35/100\n",
      "1/1 [==============================] - 0s 167ms/step - loss: 0.1308 - acc: 0.0704 - val_loss: 0.1698 - val_acc: 0.1111\n",
      "Epoch 36/100\n",
      "1/1 [==============================] - 0s 161ms/step - loss: 0.1302 - acc: 0.0704 - val_loss: 0.1690 - val_acc: 0.1111\n",
      "Epoch 37/100\n",
      "1/1 [==============================] - 0s 166ms/step - loss: 0.1298 - acc: 0.0704 - val_loss: 0.1684 - val_acc: 0.1111\n",
      "Epoch 38/100\n",
      "1/1 [==============================] - 0s 170ms/step - loss: 0.1293 - acc: 0.0845 - val_loss: 0.1679 - val_acc: 0.1111\n",
      "Epoch 39/100\n",
      "1/1 [==============================] - 0s 189ms/step - loss: 0.1289 - acc: 0.0845 - val_loss: 0.1675 - val_acc: 0.1111\n",
      "Epoch 40/100\n",
      "1/1 [==============================] - 0s 168ms/step - loss: 0.1286 - acc: 0.0845 - val_loss: 0.1672 - val_acc: 0.1111\n",
      "Epoch 41/100\n",
      "1/1 [==============================] - 0s 173ms/step - loss: 0.1282 - acc: 0.0845 - val_loss: 0.1670 - val_acc: 0.1111\n",
      "Epoch 42/100\n",
      "1/1 [==============================] - 0s 184ms/step - loss: 0.1278 - acc: 0.0845 - val_loss: 0.1669 - val_acc: 0.1111\n",
      "Epoch 43/100\n",
      "1/1 [==============================] - 0s 182ms/step - loss: 0.1275 - acc: 0.0845 - val_loss: 0.1669 - val_acc: 0.1111\n",
      "Epoch 44/100\n",
      "1/1 [==============================] - 0s 172ms/step - loss: 0.1271 - acc: 0.0845 - val_loss: 0.1669 - val_acc: 0.1111\n",
      "Epoch 45/100\n",
      "1/1 [==============================] - 0s 196ms/step - loss: 0.1267 - acc: 0.0845 - val_loss: 0.1669 - val_acc: 0.1111\n",
      "Epoch 46/100\n",
      "1/1 [==============================] - 0s 174ms/step - loss: 0.1263 - acc: 0.0845 - val_loss: 0.1668 - val_acc: 0.1111\n",
      "Epoch 47/100\n",
      "1/1 [==============================] - 0s 179ms/step - loss: 0.1259 - acc: 0.0845 - val_loss: 0.1667 - val_acc: 0.1111\n",
      "Epoch 48/100\n",
      "1/1 [==============================] - 0s 170ms/step - loss: 0.1255 - acc: 0.0845 - val_loss: 0.1665 - val_acc: 0.1111\n",
      "Epoch 49/100\n",
      "1/1 [==============================] - 0s 174ms/step - loss: 0.1251 - acc: 0.0845 - val_loss: 0.1662 - val_acc: 0.1111\n",
      "Epoch 50/100\n",
      "1/1 [==============================] - 0s 178ms/step - loss: 0.1246 - acc: 0.0704 - val_loss: 0.1659 - val_acc: 0.1111\n",
      "Epoch 51/100\n",
      "1/1 [==============================] - 0s 179ms/step - loss: 0.1242 - acc: 0.0704 - val_loss: 0.1656 - val_acc: 0.1111\n",
      "Epoch 52/100\n",
      "1/1 [==============================] - 0s 179ms/step - loss: 0.1238 - acc: 0.0704 - val_loss: 0.1654 - val_acc: 0.1111\n",
      "Epoch 53/100\n",
      "1/1 [==============================] - 0s 175ms/step - loss: 0.1234 - acc: 0.0704 - val_loss: 0.1651 - val_acc: 0.1111\n",
      "Epoch 54/100\n",
      "1/1 [==============================] - 0s 169ms/step - loss: 0.1230 - acc: 0.0704 - val_loss: 0.1650 - val_acc: 0.1111\n",
      "Epoch 55/100\n",
      "1/1 [==============================] - 0s 174ms/step - loss: 0.1227 - acc: 0.0704 - val_loss: 0.1648 - val_acc: 0.1111\n",
      "Epoch 56/100\n",
      "1/1 [==============================] - 0s 174ms/step - loss: 0.1223 - acc: 0.0986 - val_loss: 0.1648 - val_acc: 0.1111\n",
      "Epoch 57/100\n",
      "1/1 [==============================] - 0s 181ms/step - loss: 0.1220 - acc: 0.0986 - val_loss: 0.1648 - val_acc: 0.1111\n",
      "Epoch 58/100\n",
      "1/1 [==============================] - 0s 166ms/step - loss: 0.1217 - acc: 0.0986 - val_loss: 0.1648 - val_acc: 0.1111\n",
      "Epoch 59/100\n",
      "1/1 [==============================] - 0s 165ms/step - loss: 0.1214 - acc: 0.0986 - val_loss: 0.1649 - val_acc: 0.1111\n",
      "Epoch 60/100\n",
      "1/1 [==============================] - 0s 163ms/step - loss: 0.1211 - acc: 0.0986 - val_loss: 0.1651 - val_acc: 0.1111\n",
      "Epoch 61/100\n",
      "1/1 [==============================] - 0s 170ms/step - loss: 0.1209 - acc: 0.1127 - val_loss: 0.1654 - val_acc: 0.1111\n",
      "Epoch 62/100\n",
      "1/1 [==============================] - 0s 168ms/step - loss: 0.1206 - acc: 0.1127 - val_loss: 0.1656 - val_acc: 0.1111\n",
      "Epoch 63/100\n",
      "1/1 [==============================] - 0s 174ms/step - loss: 0.1204 - acc: 0.1127 - val_loss: 0.1658 - val_acc: 0.1111\n",
      "Epoch 64/100\n",
      "1/1 [==============================] - 0s 166ms/step - loss: 0.1201 - acc: 0.1127 - val_loss: 0.1659 - val_acc: 0.1111\n",
      "Epoch 65/100\n",
      "1/1 [==============================] - 0s 178ms/step - loss: 0.1199 - acc: 0.1127 - val_loss: 0.1660 - val_acc: 0.1111\n",
      "Epoch 66/100\n",
      "1/1 [==============================] - 0s 167ms/step - loss: 0.1197 - acc: 0.1127 - val_loss: 0.1660 - val_acc: 0.1111\n",
      "Epoch 67/100\n",
      "1/1 [==============================] - 0s 166ms/step - loss: 0.1194 - acc: 0.1127 - val_loss: 0.1661 - val_acc: 0.1111\n",
      "Epoch 68/100\n",
      "1/1 [==============================] - 0s 169ms/step - loss: 0.1192 - acc: 0.1268 - val_loss: 0.1664 - val_acc: 0.1111\n",
      "Epoch 69/100\n",
      "1/1 [==============================] - 0s 170ms/step - loss: 0.1190 - acc: 0.1268 - val_loss: 0.1667 - val_acc: 0.1111\n",
      "Epoch 70/100\n",
      "1/1 [==============================] - 0s 170ms/step - loss: 0.1188 - acc: 0.1268 - val_loss: 0.1670 - val_acc: 0.1111\n",
      "Epoch 71/100\n",
      "1/1 [==============================] - 0s 168ms/step - loss: 0.1186 - acc: 0.1268 - val_loss: 0.1672 - val_acc: 0.1111\n",
      "Epoch 72/100\n",
      "1/1 [==============================] - 0s 165ms/step - loss: 0.1184 - acc: 0.1268 - val_loss: 0.1672 - val_acc: 0.1111\n",
      "Epoch 73/100\n",
      "1/1 [==============================] - 0s 169ms/step - loss: 0.1181 - acc: 0.1268 - val_loss: 0.1673 - val_acc: 0.1111\n",
      "Epoch 74/100\n",
      "1/1 [==============================] - 0s 172ms/step - loss: 0.1179 - acc: 0.1268 - val_loss: 0.1674 - val_acc: 0.1111\n",
      "Epoch 75/100\n",
      "1/1 [==============================] - 0s 166ms/step - loss: 0.1177 - acc: 0.1268 - val_loss: 0.1675 - val_acc: 0.1111\n",
      "Epoch 76/100\n",
      "1/1 [==============================] - 0s 169ms/step - loss: 0.1175 - acc: 0.1268 - val_loss: 0.1677 - val_acc: 0.1111\n",
      "Epoch 77/100\n",
      "1/1 [==============================] - 0s 171ms/step - loss: 0.1173 - acc: 0.1268 - val_loss: 0.1677 - val_acc: 0.1111\n",
      "Epoch 78/100\n",
      "1/1 [==============================] - 0s 169ms/step - loss: 0.1171 - acc: 0.1268 - val_loss: 0.1677 - val_acc: 0.1111\n",
      "Epoch 79/100\n",
      "1/1 [==============================] - 0s 169ms/step - loss: 0.1170 - acc: 0.1268 - val_loss: 0.1677 - val_acc: 0.1111\n",
      "Epoch 80/100\n",
      "1/1 [==============================] - 0s 172ms/step - loss: 0.1168 - acc: 0.1268 - val_loss: 0.1676 - val_acc: 0.1111\n",
      "Epoch 81/100\n",
      "1/1 [==============================] - 0s 172ms/step - loss: 0.1166 - acc: 0.1268 - val_loss: 0.1676 - val_acc: 0.1111\n",
      "Epoch 82/100\n",
      "1/1 [==============================] - 0s 170ms/step - loss: 0.1165 - acc: 0.1268 - val_loss: 0.1675 - val_acc: 0.1111\n",
      "Epoch 83/100\n",
      "1/1 [==============================] - 0s 167ms/step - loss: 0.1163 - acc: 0.1268 - val_loss: 0.1674 - val_acc: 0.1111\n",
      "Epoch 84/100\n",
      "1/1 [==============================] - 0s 167ms/step - loss: 0.1161 - acc: 0.1268 - val_loss: 0.1673 - val_acc: 0.1111\n",
      "Epoch 85/100\n",
      "1/1 [==============================] - 0s 173ms/step - loss: 0.1160 - acc: 0.1268 - val_loss: 0.1672 - val_acc: 0.1111\n",
      "Epoch 86/100\n",
      "1/1 [==============================] - 0s 172ms/step - loss: 0.1158 - acc: 0.1268 - val_loss: 0.1671 - val_acc: 0.1111\n",
      "Epoch 87/100\n",
      "1/1 [==============================] - 0s 175ms/step - loss: 0.1156 - acc: 0.1268 - val_loss: 0.1670 - val_acc: 0.1111\n",
      "Epoch 88/100\n",
      "1/1 [==============================] - 0s 166ms/step - loss: 0.1155 - acc: 0.1268 - val_loss: 0.1669 - val_acc: 0.1111\n",
      "Epoch 89/100\n",
      "1/1 [==============================] - 0s 170ms/step - loss: 0.1153 - acc: 0.1268 - val_loss: 0.1669 - val_acc: 0.1111\n",
      "Epoch 90/100\n",
      "1/1 [==============================] - 0s 169ms/step - loss: 0.1152 - acc: 0.1268 - val_loss: 0.1670 - val_acc: 0.1111\n",
      "Epoch 91/100\n",
      "1/1 [==============================] - 0s 171ms/step - loss: 0.1150 - acc: 0.1268 - val_loss: 0.1672 - val_acc: 0.1111\n",
      "Epoch 92/100\n",
      "1/1 [==============================] - 0s 169ms/step - loss: 0.1149 - acc: 0.1268 - val_loss: 0.1673 - val_acc: 0.1111\n",
      "Epoch 93/100\n",
      "1/1 [==============================] - 0s 167ms/step - loss: 0.1148 - acc: 0.1268 - val_loss: 0.1675 - val_acc: 0.1111\n",
      "Epoch 94/100\n",
      "1/1 [==============================] - 0s 169ms/step - loss: 0.1146 - acc: 0.1268 - val_loss: 0.1676 - val_acc: 0.1111\n",
      "Epoch 95/100\n",
      "1/1 [==============================] - 0s 170ms/step - loss: 0.1145 - acc: 0.1268 - val_loss: 0.1676 - val_acc: 0.1111\n",
      "Epoch 96/100\n",
      "1/1 [==============================] - 0s 173ms/step - loss: 0.1143 - acc: 0.1268 - val_loss: 0.1675 - val_acc: 0.1111\n",
      "Epoch 97/100\n",
      "1/1 [==============================] - 0s 174ms/step - loss: 0.1142 - acc: 0.1268 - val_loss: 0.1675 - val_acc: 0.1111\n",
      "Epoch 98/100\n",
      "1/1 [==============================] - 0s 174ms/step - loss: 0.1141 - acc: 0.1268 - val_loss: 0.1675 - val_acc: 0.1111\n",
      "Epoch 99/100\n",
      "1/1 [==============================] - 0s 172ms/step - loss: 0.1139 - acc: 0.1268 - val_loss: 0.1675 - val_acc: 0.1111\n",
      "Epoch 100/100\n",
      "1/1 [==============================] - 0s 177ms/step - loss: 0.1138 - acc: 0.1268 - val_loss: 0.1674 - val_acc: 0.1111\n"
     ]
    }
   ],
   "source": [
    "history = model.fit(X_train, y_train, batch_size=128, epochs=100, verbose=1, validation_split=0.2)"
   ]
  },
  {
   "cell_type": "markdown",
   "metadata": {},
   "source": [
    "Let's now evaluate our model on the test set:"
   ]
  },
  {
   "cell_type": "code",
   "execution_count": 59,
   "metadata": {},
   "outputs": [
    {
     "name": "stdout",
     "output_type": "stream",
     "text": [
      "1/1 [==============================] - 0s 32ms/step - loss: 0.3000 - acc: 0.0000e+00\n",
      "Test Score: 0.300048828125\n",
      "Test Accuracy: 0.0\n"
     ]
    }
   ],
   "source": [
    "score = model.evaluate(X_test, y_test, verbose=1)\n",
    "\n",
    "\n",
    "print(\"Test Score:\", score[0])\n",
    "print(\"Test Accuracy:\", score[1])"
   ]
  },
  {
   "cell_type": "markdown",
   "metadata": {},
   "source": [
    "Finally, we will plot the loss and accuracy values for training and test sets to see if our model is overfitting."
   ]
  },
  {
   "cell_type": "code",
   "execution_count": 60,
   "metadata": {},
   "outputs": [
    {
     "data": {
      "image/png": "[encoded data removed]",
      "text/plain": [
       "<Figure size 720x576 with 1 Axes>"
      ]
     },
     "metadata": {
      "needs_background": "light"
     },
     "output_type": "display_data"
    },
    {
     "data": {
      "image/png": "[encoded data removed]",
      "text/plain": [
       "<Figure size 720x576 with 1 Axes>"
      ]
     },
     "metadata": {
      "needs_background": "light"
     },
     "output_type": "display_data"
    }
   ],
   "source": [
    "import matplotlib.pyplot as plt\n",
    "\n",
    "plt.plot(history.history['acc'])\n",
    "plt.plot(history.history['val_acc'])\n",
    "\n",
    "plt.title('model accuracy')\n",
    "plt.ylabel('accuracy')\n",
    "plt.xlabel('epoch')\n",
    "plt.legend(['train','test'], loc='upper left')\n",
    "plt.show()\n",
    "\n",
    "plt.plot(history.history['loss'])\n",
    "plt.plot(history.history['val_loss'])\n",
    "\n",
    "plt.title('model loss')\n",
    "plt.ylabel('loss')\n",
    "plt.xlabel('epoch')\n",
    "plt.legend(['train','test'], loc='upper left')\n",
    "plt.show()"
   ]
  }
 ],
 "metadata": {
  "interpreter": {
   "hash": "29040de7e6f5de5d2bd1b40f6cd95c54deb9d87fe13eb19a8903168d595b640b"
  },
  "kernelspec": {
   "display_name": "Python 3.10.1 64-bit",
   "language": "python",
   "name": "python3"
  },
  "language_info": {
   "codemirror_mode": {
    "name": "ipython",
    "version": 3
   },
   "file_extension": ".py",
   "mimetype": "text/x-python",
   "name": "python",
   "nbconvert_exporter": "python",
   "pygments_lexer": "ipython3",
   "version": "3.10.1"
  },
  "orig_nbformat": 4
 },
 "nbformat": 4,
 "nbformat_minor": 2
}
