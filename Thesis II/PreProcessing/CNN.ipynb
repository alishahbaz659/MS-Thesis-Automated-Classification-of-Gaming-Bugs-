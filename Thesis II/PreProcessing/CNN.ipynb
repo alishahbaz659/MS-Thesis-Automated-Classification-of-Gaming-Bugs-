{
 "cells": [
  {
   "cell_type": "markdown",
   "metadata": {},
   "source": [
    "Implementing Convolutional Neural Network (CNN) with Word2Vec embeddings as input to detect bugs in gaming Reviews in PyTorch"
   ]
  },
  {
   "cell_type": "code",
   "execution_count": 1,
   "metadata": {},
   "outputs": [],
   "source": [
    "import pandas as pd\n",
    "from collections.abc import Mapping"
   ]
  },
  {
   "cell_type": "markdown",
   "metadata": {},
   "source": [
    "Exploring data"
   ]
  },
  {
   "cell_type": "code",
   "execution_count": 2,
   "metadata": {},
   "outputs": [
    {
     "name": "stdout",
     "output_type": "stream",
     "text": [
      "Columns in the original dataset:\n",
      "\n",
      "Index(['product_id', 'page', 'page_order', 'recommended', 'date', 'bugType',\n",
      "       'haveBugs', 'text', 'hours', 'username', 'products', 'early_access',\n",
      "       'products_ismissing'],\n",
      "      dtype='object')\n"
     ]
    }
   ],
   "source": [
    "top_data_df = pd.read_csv(\"Dataset/cleanedReviewsDateset100.csv\")\n",
    "print(\"Columns in the original dataset:\\n\")\n",
    "print(top_data_df.columns)"
   ]
  },
  {
   "cell_type": "code",
   "execution_count": 3,
   "metadata": {},
   "outputs": [
    {
     "name": "stdout",
     "output_type": "stream",
     "text": [
      "After segregating and taking equal number of rows for each review:\n",
      "0    60\n",
      "1    39\n",
      "Name: haveBugs, dtype: int64\n"
     ]
    },
    {
     "data": {
      "text/html": [
       "<div>\n",
       "<style scoped>\n",
       "    .dataframe tbody tr th:only-of-type {\n",
       "        vertical-align: middle;\n",
       "    }\n",
       "\n",
       "    .dataframe tbody tr th {\n",
       "        vertical-align: top;\n",
       "    }\n",
       "\n",
       "    .dataframe thead th {\n",
       "        text-align: right;\n",
       "    }\n",
       "</style>\n",
       "<table border=\"1\" class=\"dataframe\">\n",
       "  <thead>\n",
       "    <tr style=\"text-align: right;\">\n",
       "      <th></th>\n",
       "      <th>product_id</th>\n",
       "      <th>page</th>\n",
       "      <th>page_order</th>\n",
       "      <th>recommended</th>\n",
       "      <th>date</th>\n",
       "      <th>bugType</th>\n",
       "      <th>haveBugs</th>\n",
       "      <th>text</th>\n",
       "      <th>hours</th>\n",
       "      <th>username</th>\n",
       "      <th>products</th>\n",
       "      <th>early_access</th>\n",
       "      <th>products_ismissing</th>\n",
       "    </tr>\n",
       "  </thead>\n",
       "  <tbody>\n",
       "    <tr>\n",
       "      <th>2</th>\n",
       "      <td>108600</td>\n",
       "      <td>1</td>\n",
       "      <td>7</td>\n",
       "      <td>False</td>\n",
       "      <td>01-01-22</td>\n",
       "      <td>invalid event occurance over time</td>\n",
       "      <td>1</td>\n",
       "      <td>fun game ruined by overly punishing update mor...</td>\n",
       "      <td>180.9</td>\n",
       "      <td>kobogen</td>\n",
       "      <td>157</td>\n",
       "      <td>True</td>\n",
       "      <td>False</td>\n",
       "    </tr>\n",
       "    <tr>\n",
       "      <th>5</th>\n",
       "      <td>1086940</td>\n",
       "      <td>1</td>\n",
       "      <td>1</td>\n",
       "      <td>False</td>\n",
       "      <td>01-01-22</td>\n",
       "      <td>implementation response issue</td>\n",
       "      <td>1</td>\n",
       "      <td>like its definitely fun but the stability is a...</td>\n",
       "      <td>81.4</td>\n",
       "      <td>wickedmystic</td>\n",
       "      <td>142</td>\n",
       "      <td>True</td>\n",
       "      <td>False</td>\n",
       "    </tr>\n",
       "    <tr>\n",
       "      <th>6</th>\n",
       "      <td>1086940</td>\n",
       "      <td>1</td>\n",
       "      <td>2</td>\n",
       "      <td>True</td>\n",
       "      <td>01-01-22</td>\n",
       "      <td>information out of order</td>\n",
       "      <td>1</td>\n",
       "      <td>so many systems to learn its a bit overwhelmin...</td>\n",
       "      <td>39.2</td>\n",
       "      <td>voxix</td>\n",
       "      <td>120</td>\n",
       "      <td>True</td>\n",
       "      <td>False</td>\n",
       "    </tr>\n",
       "    <tr>\n",
       "      <th>8</th>\n",
       "      <td>1086940</td>\n",
       "      <td>1</td>\n",
       "      <td>6</td>\n",
       "      <td>False</td>\n",
       "      <td>01-01-22</td>\n",
       "      <td>invalid value change</td>\n",
       "      <td>1</td>\n",
       "      <td>this game needs a higher level cap not worth p...</td>\n",
       "      <td>138.3</td>\n",
       "      <td>zardu hasselfrau</td>\n",
       "      <td>37</td>\n",
       "      <td>True</td>\n",
       "      <td>False</td>\n",
       "    </tr>\n",
       "    <tr>\n",
       "      <th>10</th>\n",
       "      <td>1086940</td>\n",
       "      <td>1</td>\n",
       "      <td>8</td>\n",
       "      <td>True</td>\n",
       "      <td>01-01-22</td>\n",
       "      <td>invalid graphical representation, artificial s...</td>\n",
       "      <td>1</td>\n",
       "      <td>the game has film grain that takes away the sp...</td>\n",
       "      <td>33.2</td>\n",
       "      <td>tatical</td>\n",
       "      <td>47</td>\n",
       "      <td>True</td>\n",
       "      <td>False</td>\n",
       "    </tr>\n",
       "    <tr>\n",
       "      <th>17</th>\n",
       "      <td>1826960</td>\n",
       "      <td>1</td>\n",
       "      <td>2</td>\n",
       "      <td>True</td>\n",
       "      <td>01-01-22</td>\n",
       "      <td>invalid event occurance over time</td>\n",
       "      <td>1</td>\n",
       "      <td>the game itself isnt bad its unique in the way...</td>\n",
       "      <td>0.9</td>\n",
       "      <td>elisabeth</td>\n",
       "      <td>12</td>\n",
       "      <td>True</td>\n",
       "      <td>False</td>\n",
       "    </tr>\n",
       "    <tr>\n",
       "      <th>18</th>\n",
       "      <td>1826960</td>\n",
       "      <td>1</td>\n",
       "      <td>3</td>\n",
       "      <td>False</td>\n",
       "      <td>01-01-22</td>\n",
       "      <td>invalid context state over time</td>\n",
       "      <td>1</td>\n",
       "      <td>i have to put this game down because all the h...</td>\n",
       "      <td>0.8</td>\n",
       "      <td>urimiya</td>\n",
       "      <td>114</td>\n",
       "      <td>True</td>\n",
       "      <td>False</td>\n",
       "    </tr>\n",
       "    <tr>\n",
       "      <th>20</th>\n",
       "      <td>1826960</td>\n",
       "      <td>1</td>\n",
       "      <td>7</td>\n",
       "      <td>True</td>\n",
       "      <td>01-01-22</td>\n",
       "      <td>artificial stupidity</td>\n",
       "      <td>1</td>\n",
       "      <td>so before us is the classic browser strategy o...</td>\n",
       "      <td>0.8</td>\n",
       "      <td>n1k0msl</td>\n",
       "      <td>26</td>\n",
       "      <td>True</td>\n",
       "      <td>False</td>\n",
       "    </tr>\n",
       "    <tr>\n",
       "      <th>27</th>\n",
       "      <td>887570</td>\n",
       "      <td>1</td>\n",
       "      <td>7</td>\n",
       "      <td>True</td>\n",
       "      <td>01-01-22</td>\n",
       "      <td>lack of required information, information our ...</td>\n",
       "      <td>1</td>\n",
       "      <td>this game is cool but it is waaaaaay too niche...</td>\n",
       "      <td>4.0</td>\n",
       "      <td>918informant</td>\n",
       "      <td>187</td>\n",
       "      <td>True</td>\n",
       "      <td>False</td>\n",
       "    </tr>\n",
       "    <tr>\n",
       "      <th>28</th>\n",
       "      <td>887570</td>\n",
       "      <td>1</td>\n",
       "      <td>8</td>\n",
       "      <td>False</td>\n",
       "      <td>01-01-22</td>\n",
       "      <td>implementation response issue</td>\n",
       "      <td>1</td>\n",
       "      <td>it doesnt make sense that this game has overwh...</td>\n",
       "      <td>5.0</td>\n",
       "      <td>sentrysteve</td>\n",
       "      <td>188</td>\n",
       "      <td>True</td>\n",
       "      <td>False</td>\n",
       "    </tr>\n",
       "  </tbody>\n",
       "</table>\n",
       "</div>"
      ],
      "text/plain": [
       "    product_id  page  page_order  recommended      date  \\\n",
       "2       108600     1           7        False  01-01-22   \n",
       "5      1086940     1           1        False  01-01-22   \n",
       "6      1086940     1           2         True  01-01-22   \n",
       "8      1086940     1           6        False  01-01-22   \n",
       "10     1086940     1           8         True  01-01-22   \n",
       "17     1826960     1           2         True  01-01-22   \n",
       "18     1826960     1           3        False  01-01-22   \n",
       "20     1826960     1           7         True  01-01-22   \n",
       "27      887570     1           7         True  01-01-22   \n",
       "28      887570     1           8        False  01-01-22   \n",
       "\n",
       "                                              bugType  haveBugs  \\\n",
       "2                   invalid event occurance over time         1   \n",
       "5                       implementation response issue         1   \n",
       "6                            information out of order         1   \n",
       "8                                invalid value change         1   \n",
       "10  invalid graphical representation, artificial s...         1   \n",
       "17                  invalid event occurance over time         1   \n",
       "18                    invalid context state over time         1   \n",
       "20                               artificial stupidity         1   \n",
       "27  lack of required information, information our ...         1   \n",
       "28                      implementation response issue         1   \n",
       "\n",
       "                                                 text  hours  \\\n",
       "2   fun game ruined by overly punishing update mor...  180.9   \n",
       "5   like its definitely fun but the stability is a...   81.4   \n",
       "6   so many systems to learn its a bit overwhelmin...   39.2   \n",
       "8   this game needs a higher level cap not worth p...  138.3   \n",
       "10  the game has film grain that takes away the sp...   33.2   \n",
       "17  the game itself isnt bad its unique in the way...    0.9   \n",
       "18  i have to put this game down because all the h...    0.8   \n",
       "20  so before us is the classic browser strategy o...    0.8   \n",
       "27  this game is cool but it is waaaaaay too niche...    4.0   \n",
       "28  it doesnt make sense that this game has overwh...    5.0   \n",
       "\n",
       "            username  products  early_access  products_ismissing  \n",
       "2            kobogen       157          True               False  \n",
       "5       wickedmystic       142          True               False  \n",
       "6              voxix       120          True               False  \n",
       "8   zardu hasselfrau        37          True               False  \n",
       "10           tatical        47          True               False  \n",
       "17         elisabeth        12          True               False  \n",
       "18           urimiya       114          True               False  \n",
       "20           n1k0msl        26          True               False  \n",
       "27      918informant       187          True               False  \n",
       "28       sentrysteve       188          True               False  "
      ]
     },
     "execution_count": 3,
     "metadata": {},
     "output_type": "execute_result"
    }
   ],
   "source": [
    "# Function to retrieve top few number of each category\n",
    "def get_top_data(top_n = 5000):\n",
    "    top_data_df_positive = top_data_df[top_data_df['haveBugs'] == 1].head(top_n)\n",
    "    top_data_df_negative = top_data_df[top_data_df['haveBugs'] == 0].head(top_n)\n",
    "    top_data_df_small = pd.concat([top_data_df_positive, top_data_df_negative])\n",
    "    return top_data_df_small\n",
    "\n",
    "# Function call to get the top 10000 from each review\n",
    "top_data_df_small = get_top_data(top_n=10000)\n",
    "\n",
    "# After selecting top few samples of each review\n",
    "print(\"After segregating and taking equal number of rows for each review:\")\n",
    "print(top_data_df_small['haveBugs'].value_counts())\n",
    "top_data_df_small.head(10)"
   ]
  },
  {
   "cell_type": "markdown",
   "metadata": {},
   "source": [
    "preprocess text data:\n",
    "1. Removal of Stop Words"
   ]
  },
  {
   "cell_type": "code",
   "execution_count": 4,
   "metadata": {},
   "outputs": [
    {
     "name": "stdout",
     "output_type": "stream",
     "text": [
      "Restaurant good service!!\n",
      "I like food!!\n",
      "This product good!!\n"
     ]
    }
   ],
   "source": [
    "# Removing the stop words\n",
    "from gensim.parsing.preprocessing import remove_stopwords\n",
    "print(remove_stopwords(\"Restaurant had a really good service!!\"))\n",
    "print(remove_stopwords(\"I did not like the food!!\"))\n",
    "print(remove_stopwords(\"This product is not good!!\"))"
   ]
  },
  {
   "cell_type": "markdown",
   "metadata": {},
   "source": [
    "Tokenization"
   ]
  },
  {
   "cell_type": "code",
   "execution_count": 5,
   "metadata": {},
   "outputs": [
    {
     "name": "stdout",
     "output_type": "stream",
     "text": [
      "2     [fun, game, ruined, by, overly, punishing, upd...\n",
      "5     [like, its, definitely, fun, but, the, stabili...\n",
      "6     [so, many, systems, to, learn, its, bit, overw...\n",
      "8     [this, game, needs, higher, level, cap, not, w...\n",
      "10    [the, game, has, film, grain, that, takes, awa...\n",
      "17    [the, game, itself, isnt, bad, its, unique, in...\n",
      "18    [have, to, put, this, game, down, because, all...\n",
      "20    [so, before, us, is, the, classic, browser, st...\n",
      "27    [this, game, is, cool, but, it, is, waaaaaay, ...\n",
      "28    [it, doesnt, make, sense, that, this, game, ha...\n",
      "Name: tokenized_text, dtype: object\n"
     ]
    }
   ],
   "source": [
    "from gensim.utils import simple_preprocess\n",
    "# Tokenize the text column to get the new column 'tokenized_text'\n",
    "top_data_df_small['tokenized_text'] = [simple_preprocess(line, deacc=True) for line in top_data_df_small['text']] \n",
    "print(top_data_df_small['tokenized_text'].head(10))"
   ]
  },
  {
   "cell_type": "markdown",
   "metadata": {},
   "source": [
    "Stemming"
   ]
  },
  {
   "cell_type": "code",
   "execution_count": 6,
   "metadata": {},
   "outputs": [
    {
     "data": {
      "text/plain": [
       "2     [fun, game, ruin, by, overli, punish, updat, m...\n",
       "5     [like, it, definit, fun, but, the, stabil, is,...\n",
       "6     [so, mani, system, to, learn, it, bit, overwhe...\n",
       "8     [thi, game, need, higher, level, cap, not, wor...\n",
       "10    [the, game, ha, film, grain, that, take, awai,...\n",
       "17    [the, game, itself, isnt, bad, it, uniqu, in, ...\n",
       "18    [have, to, put, thi, game, down, becaus, all, ...\n",
       "20    [so, befor, us, is, the, classic, browser, str...\n",
       "27    [thi, game, is, cool, but, it, is, waaaaaai, t...\n",
       "28    [it, doesnt, make, sens, that, thi, game, ha, ...\n",
       "Name: stemmed_tokens, dtype: object"
      ]
     },
     "execution_count": 6,
     "metadata": {},
     "output_type": "execute_result"
    }
   ],
   "source": [
    "from gensim.parsing.porter import PorterStemmer\n",
    "porter_stemmer = PorterStemmer()\n",
    "# Get the stemmed_tokens\n",
    "top_data_df_small['stemmed_tokens'] = [[porter_stemmer.stem(word) for word in tokens] for tokens in top_data_df_small['tokenized_text'] ]\n",
    "top_data_df_small['stemmed_tokens'].head(10)"
   ]
  },
  {
   "cell_type": "markdown",
   "metadata": {},
   "source": [
    "Splitting into Train and Test Sets:\n",
    "Train data would be used to train the model and test data is the data on which the model would predict the classes and it will be compared with original labels to check the accuracy or other model test metrics.\n",
    "Train data ( Subset of data for training ML Model) ~70%\n",
    "Test data (Subset of data for testing ML Model trained from the train data) ~30%"
   ]
  },
  {
   "cell_type": "code",
   "execution_count": 7,
   "metadata": {},
   "outputs": [
    {
     "name": "stdout",
     "output_type": "stream",
     "text": [
      "Value counts for Train reviews\n",
      "0    46\n",
      "1    28\n",
      "Name: haveBugs, dtype: int64\n",
      "Value counts for Test reviews\n",
      "0    14\n",
      "1    11\n",
      "Name: haveBugs, dtype: int64\n",
      "<class 'pandas.core.frame.DataFrame'>\n",
      "<class 'pandas.core.series.Series'>\n",
      "   index                                     stemmed_tokens\n",
      "0     65  [it, great, wai, to, portrai, semi, realist, p...\n",
      "1     92  [thi, is, realli, fun, game, with, plenti, to,...\n",
      "2     84  [return, it, interfac, imposs, to, negoti, eve...\n",
      "3     37  [if, you, ar, think, of, plai, thi, in, vr, yo...\n",
      "4     41  [rate, thi, posit, review, becaus, absolut, lo...\n"
     ]
    }
   ],
   "source": [
    "from sklearn.model_selection import train_test_split\n",
    "# Train Test Split Function\n",
    "def split_train_test(top_data_df_small, test_size=0.25, shuffle_state=True):\n",
    "    X_train, X_test, Y_train, Y_test = train_test_split(top_data_df_small[['stemmed_tokens']], \n",
    "                                                        top_data_df_small['haveBugs'], \n",
    "                                                        shuffle=shuffle_state,\n",
    "                                                        test_size=test_size, \n",
    "                                                        random_state=15)\n",
    "\n",
    "    print(\"Value counts for Train reviews\")\n",
    "    print(Y_train.value_counts())\n",
    "    print(\"Value counts for Test reviews\")\n",
    "    print(Y_test.value_counts())\n",
    "    print(type(X_train))\n",
    "    print(type(Y_train))\n",
    "    X_train = X_train.reset_index()\n",
    "    X_test = X_test.reset_index()\n",
    "    Y_train = Y_train.to_frame()\n",
    "    Y_train = Y_train.reset_index()\n",
    "    Y_test = Y_test.to_frame()\n",
    "    Y_test = Y_test.reset_index()\n",
    "    print(X_train.head())\n",
    "    return X_train, X_test, Y_train, Y_test\n",
    "\n",
    "# Call the train_test_split\n",
    "X_train, X_test, Y_train, Y_test = split_train_test(top_data_df_small)"
   ]
  },
  {
   "cell_type": "markdown",
   "metadata": {},
   "source": [
    "Convolutional Neural Network for Text Classification:\n",
    "we are ready to dive into how will we use CNN for text classification and how the input will be constructed. CNN involves two operations, which can be thought of as feature extractors: convolution and pooling. Output of these operations is finally connected to the multi-layer perceptron to get the final output.\n",
    "Generating input and output tensor:"
   ]
  },
  {
   "cell_type": "code",
   "execution_count": 8,
   "metadata": {},
   "outputs": [
    {
     "name": "stdout",
     "output_type": "stream",
     "text": [
      "99\n"
     ]
    }
   ],
   "source": [
    "from gensim.models import Word2Vec\n",
    "size = 500\n",
    "window = 3\n",
    "min_count = 1\n",
    "workers = 3\n",
    "sg = 1\n",
    "\n",
    "# Function to train word2vec model\n",
    "def make_word2vec_model(top_data_df_small, padding=True, sg=1, min_count=1, size=500, workers=3, window=3):\n",
    "    if  padding:\n",
    "        print(len(top_data_df_small))\n",
    "        temp_df = pd.Series(top_data_df_small['stemmed_tokens']).values\n",
    "        temp_df = list(temp_df)\n",
    "        temp_df.append(['pad'])\n",
    "        word2vec_file = 'CNN/' + 'models/' + 'word2vec_' + str(size) + '_PAD.model'\n",
    "    else:\n",
    "        temp_df = top_data_df_small['stemmed_tokens']\n",
    "        word2vec_file = 'CNN/' + 'models/' + 'word2vec_' + str(size) + '.model'\n",
    "    w2v_model = Word2Vec(temp_df, min_count = min_count, vector_size = size, workers = workers, window = window, sg = sg)\n",
    "\n",
    "    w2v_model.save(word2vec_file)\n",
    "    return w2v_model, word2vec_file\n",
    "\n",
    "# Train Word2vec model\n",
    "w2vmodel, word2vec_file = make_word2vec_model(top_data_df_small, padding=True, sg=sg, min_count=min_count, size=size, workers=workers, window=window)\n"
   ]
  },
  {
   "cell_type": "markdown",
   "metadata": {},
   "source": [
    "Once the model is ready, we can create a function to generate input tensor."
   ]
  },
  {
   "cell_type": "code",
   "execution_count": 9,
   "metadata": {},
   "outputs": [],
   "source": [
    "max_sen_len = top_data_df_small.stemmed_tokens.map(len).max()\n",
    "padding_idx = w2vmodel.wv.key_to_index[\"pad\"]\n",
    "\n",
    "def make_word2vec_vector_cnn(sentence):\n",
    "    padded_X = [padding_idx for i in range(max_sen_len)]\n",
    "    i = 0\n",
    "    for word in sentence:\n",
    "        if word not in w2vmodel.wv:\n",
    "            padded_X[i] = 0\n",
    "            print(word)\n",
    "        else:\n",
    "            padded_X[i] = w2vmodel.wv.key_to_index[word]\n",
    "        i += 1\n",
    "    return torch.tensor(padded_X, dtype=torch.long, device=device).view(1, -1)"
   ]
  },
  {
   "cell_type": "code",
   "execution_count": 10,
   "metadata": {},
   "outputs": [],
   "source": [
    "# Function to get the output tensor\n",
    "def make_target(label):\n",
    "    if label == -1:\n",
    "        return torch.tensor([0], dtype=torch.long, device=device)\n",
    "    elif label == 0:\n",
    "        return torch.tensor([1], dtype=torch.long, device=device)\n",
    "    else:\n",
    "        return torch.tensor([2], dtype=torch.long, device=device)"
   ]
  },
  {
   "cell_type": "markdown",
   "metadata": {},
   "source": [
    "Defining CNN"
   ]
  },
  {
   "cell_type": "code",
   "execution_count": 11,
   "metadata": {},
   "outputs": [],
   "source": [
    "EMBEDDING_SIZE = 500\n",
    "NUM_FILTERS = 10\n",
    "import gensim\n",
    "import torch.nn as nn\n",
    "import torch\n",
    "\n",
    "class CnnTextClassifier(nn.Module):\n",
    "    def __init__(self, vocab_size, num_classes, window_sizes=(1,2,3,5)):\n",
    "        super(CnnTextClassifier, self).__init__()\n",
    "        w2vmodel = gensim.models.KeyedVectors.load('CNN/' + 'models/' + 'word2vec_500_PAD.model')\n",
    "        weights = w2vmodel.wv\n",
    "        # With pretrained embeddings\n",
    "        self.embedding = nn.Embedding.from_pretrained(torch.FloatTensor(weights.vectors), padding_idx=w2vmodel.wv.key_to_index['pad'])\n",
    "        # Without pretrained embeddings\n",
    "        # self.embedding = nn.Embedding(vocab_size, EMBEDDING_SIZE)\n",
    "\n",
    "        self.convs = nn.ModuleList([\n",
    "                                   nn.Conv2d(1, NUM_FILTERS, [window_size, EMBEDDING_SIZE], padding=(window_size - 1, 0))\n",
    "                                   for window_size in window_sizes\n",
    "        ])\n",
    "\n",
    "        self.fc = nn.Linear(NUM_FILTERS * len(window_sizes), num_classes)\n",
    "\n",
    "    def forward(self, x):\n",
    "        x = self.embedding(x) # [B, T, E]\n",
    "\n",
    "        # Apply a convolution + max_pool layer for each window size\n",
    "        x = torch.unsqueeze(x, 1)\n",
    "        xs = []\n",
    "        for conv in self.convs:\n",
    "            x2 = torch.tanh(conv(x))\n",
    "            x2 = torch.squeeze(x2, -1)\n",
    "            x2 = F.max_pool1d(x2, x2.size(2))\n",
    "            xs.append(x2)\n",
    "        x = torch.cat(xs, 2)\n",
    "\n",
    "        # FC\n",
    "        x = x.view(x.size(0), -1)\n",
    "        logits = self.fc(x)\n",
    "\n",
    "        probs = F.softmax(logits, dim = 1)\n",
    "\n",
    "        return probs"
   ]
  },
  {
   "cell_type": "code",
   "execution_count": 12,
   "metadata": {},
   "outputs": [
    {
     "name": "stdout",
     "output_type": "stream",
     "text": [
      "Device available for running: \n",
      "cpu\n"
     ]
    }
   ],
   "source": [
    "import torch.nn as nn\n",
    "import torch.nn.functional as F\n",
    "import torch.optim as optim\n",
    "\n",
    "import torch\n",
    "# Use cuda if present\n",
    "device = torch.device(\"cuda\" if torch.cuda.is_available() else \"cpu\")\n",
    "print(\"Device available for running: \")\n",
    "print(device)"
   ]
  },
  {
   "cell_type": "markdown",
   "metadata": {},
   "source": [
    "Train CNN Model"
   ]
  },
  {
   "cell_type": "code",
   "execution_count": 13,
   "metadata": {},
   "outputs": [
    {
     "name": "stdout",
     "output_type": "stream",
     "text": [
      "Epoch1\n"
     ]
    },
    {
     "ename": "KeyboardInterrupt",
     "evalue": "",
     "output_type": "error",
     "traceback": [
      "\u001b[1;31m---------------------------------------------------------------------------\u001b[0m",
      "\u001b[1;31mKeyboardInterrupt\u001b[0m                         Traceback (most recent call last)",
      "\u001b[1;32mc:\\Users\\Alpha\\Downloads\\Thesis 2\\PreProcessing\\CNN.ipynb Cell 23'\u001b[0m in \u001b[0;36m<cell line: 17>\u001b[1;34m()\u001b[0m\n\u001b[0;32m     <a href='vscode-notebook-cell:/c%3A/Users/Alpha/Downloads/Thesis%202/PreProcessing/CNN.ipynb#ch0000022?line=34'>35</a>\u001b[0m train_loss \u001b[39m+\u001b[39m\u001b[39m=\u001b[39m loss\u001b[39m.\u001b[39mitem()\n\u001b[0;32m     <a href='vscode-notebook-cell:/c%3A/Users/Alpha/Downloads/Thesis%202/PreProcessing/CNN.ipynb#ch0000022?line=36'>37</a>\u001b[0m \u001b[39m# Getting gradients w.r.t. parameters\u001b[39;00m\n\u001b[1;32m---> <a href='vscode-notebook-cell:/c%3A/Users/Alpha/Downloads/Thesis%202/PreProcessing/CNN.ipynb#ch0000022?line=37'>38</a>\u001b[0m loss\u001b[39m.\u001b[39;49mbackward()\n\u001b[0;32m     <a href='vscode-notebook-cell:/c%3A/Users/Alpha/Downloads/Thesis%202/PreProcessing/CNN.ipynb#ch0000022?line=39'>40</a>\u001b[0m \u001b[39m# Updating parameters\u001b[39;00m\n\u001b[0;32m     <a href='vscode-notebook-cell:/c%3A/Users/Alpha/Downloads/Thesis%202/PreProcessing/CNN.ipynb#ch0000022?line=40'>41</a>\u001b[0m optimizer\u001b[39m.\u001b[39mstep()\n",
      "File \u001b[1;32m~\\AppData\\Local\\Programs\\Python\\Python310\\lib\\site-packages\\torch\\_tensor.py:363\u001b[0m, in \u001b[0;36mTensor.backward\u001b[1;34m(self, gradient, retain_graph, create_graph, inputs)\u001b[0m\n\u001b[0;32m    <a href='file:///c%3A/Users/Alpha/AppData/Local/Programs/Python/Python310/lib/site-packages/torch/_tensor.py?line=353'>354</a>\u001b[0m \u001b[39mif\u001b[39;00m has_torch_function_unary(\u001b[39mself\u001b[39m):\n\u001b[0;32m    <a href='file:///c%3A/Users/Alpha/AppData/Local/Programs/Python/Python310/lib/site-packages/torch/_tensor.py?line=354'>355</a>\u001b[0m     \u001b[39mreturn\u001b[39;00m handle_torch_function(\n\u001b[0;32m    <a href='file:///c%3A/Users/Alpha/AppData/Local/Programs/Python/Python310/lib/site-packages/torch/_tensor.py?line=355'>356</a>\u001b[0m         Tensor\u001b[39m.\u001b[39mbackward,\n\u001b[0;32m    <a href='file:///c%3A/Users/Alpha/AppData/Local/Programs/Python/Python310/lib/site-packages/torch/_tensor.py?line=356'>357</a>\u001b[0m         (\u001b[39mself\u001b[39m,),\n\u001b[1;32m   (...)\u001b[0m\n\u001b[0;32m    <a href='file:///c%3A/Users/Alpha/AppData/Local/Programs/Python/Python310/lib/site-packages/torch/_tensor.py?line=360'>361</a>\u001b[0m         create_graph\u001b[39m=\u001b[39mcreate_graph,\n\u001b[0;32m    <a href='file:///c%3A/Users/Alpha/AppData/Local/Programs/Python/Python310/lib/site-packages/torch/_tensor.py?line=361'>362</a>\u001b[0m         inputs\u001b[39m=\u001b[39minputs)\n\u001b[1;32m--> <a href='file:///c%3A/Users/Alpha/AppData/Local/Programs/Python/Python310/lib/site-packages/torch/_tensor.py?line=362'>363</a>\u001b[0m torch\u001b[39m.\u001b[39;49mautograd\u001b[39m.\u001b[39;49mbackward(\u001b[39mself\u001b[39;49m, gradient, retain_graph, create_graph, inputs\u001b[39m=\u001b[39;49minputs)\n",
      "File \u001b[1;32m~\\AppData\\Local\\Programs\\Python\\Python310\\lib\\site-packages\\torch\\autograd\\__init__.py:173\u001b[0m, in \u001b[0;36mbackward\u001b[1;34m(tensors, grad_tensors, retain_graph, create_graph, grad_variables, inputs)\u001b[0m\n\u001b[0;32m    <a href='file:///c%3A/Users/Alpha/AppData/Local/Programs/Python/Python310/lib/site-packages/torch/autograd/__init__.py?line=167'>168</a>\u001b[0m     retain_graph \u001b[39m=\u001b[39m create_graph\n\u001b[0;32m    <a href='file:///c%3A/Users/Alpha/AppData/Local/Programs/Python/Python310/lib/site-packages/torch/autograd/__init__.py?line=169'>170</a>\u001b[0m \u001b[39m# The reason we repeat same the comment below is that\u001b[39;00m\n\u001b[0;32m    <a href='file:///c%3A/Users/Alpha/AppData/Local/Programs/Python/Python310/lib/site-packages/torch/autograd/__init__.py?line=170'>171</a>\u001b[0m \u001b[39m# some Python versions print out the first line of a multi-line function\u001b[39;00m\n\u001b[0;32m    <a href='file:///c%3A/Users/Alpha/AppData/Local/Programs/Python/Python310/lib/site-packages/torch/autograd/__init__.py?line=171'>172</a>\u001b[0m \u001b[39m# calls in the traceback and some print out the last line\u001b[39;00m\n\u001b[1;32m--> <a href='file:///c%3A/Users/Alpha/AppData/Local/Programs/Python/Python310/lib/site-packages/torch/autograd/__init__.py?line=172'>173</a>\u001b[0m Variable\u001b[39m.\u001b[39;49m_execution_engine\u001b[39m.\u001b[39;49mrun_backward(  \u001b[39m# Calls into the C++ engine to run the backward pass\u001b[39;49;00m\n\u001b[0;32m    <a href='file:///c%3A/Users/Alpha/AppData/Local/Programs/Python/Python310/lib/site-packages/torch/autograd/__init__.py?line=173'>174</a>\u001b[0m     tensors, grad_tensors_, retain_graph, create_graph, inputs,\n\u001b[0;32m    <a href='file:///c%3A/Users/Alpha/AppData/Local/Programs/Python/Python310/lib/site-packages/torch/autograd/__init__.py?line=174'>175</a>\u001b[0m     allow_unreachable\u001b[39m=\u001b[39;49m\u001b[39mTrue\u001b[39;49;00m, accumulate_grad\u001b[39m=\u001b[39;49m\u001b[39mTrue\u001b[39;49;00m)\n",
      "\u001b[1;31mKeyboardInterrupt\u001b[0m: "
     ]
    }
   ],
   "source": [
    "NUM_CLASSES = 3\n",
    "VOCAB_SIZE = len(w2vmodel.wv)\n",
    "\n",
    "cnn_model = CnnTextClassifier(vocab_size=VOCAB_SIZE, num_classes=NUM_CLASSES)\n",
    "cnn_model.to(device)\n",
    "loss_function = nn.CrossEntropyLoss()\n",
    "optimizer = optim.Adam(cnn_model.parameters(), lr=0.001)\n",
    "num_epochs = 30\n",
    "\n",
    "# Open the file for writing loss\n",
    "loss_file_name = 'CNN/' +  'plots/' + 'cnn_class_big_loss_with_padding.csv'\n",
    "f = open(loss_file_name,'w')\n",
    "f.write('iter, loss')\n",
    "f.write('\\n')\n",
    "losses = []\n",
    "cnn_model.train()\n",
    "for epoch in range(num_epochs):\n",
    "    print(\"Epoch\" + str(epoch + 1))\n",
    "    train_loss = 0\n",
    "    for index, row in X_train.iterrows():\n",
    "        # Clearing the accumulated gradients\n",
    "        cnn_model.zero_grad()\n",
    "\n",
    "        # Make the bag of words vector for stemmed tokens \n",
    "        bow_vec = make_word2vec_vector_cnn(row['stemmed_tokens'])\n",
    "       \n",
    "        # Forward pass to get output\n",
    "        probs = cnn_model(bow_vec)\n",
    "\n",
    "        # Get the target label\n",
    "        target = make_target(Y_train['haveBugs'][index])\n",
    "\n",
    "        # Calculate Loss: softmax --> cross entropy loss\n",
    "        loss = loss_function(probs, target)\n",
    "        train_loss += loss.item()\n",
    "\n",
    "        # Getting gradients w.r.t. parameters\n",
    "        loss.backward()\n",
    "\n",
    "        # Updating parameters\n",
    "        optimizer.step()\n",
    "\n",
    "\n",
    "    # if index == 0:\n",
    "    #     continue\n",
    "    print(\"Epoch ran :\"+ str(epoch+1))\n",
    "    f.write(str((epoch+1)) + \",\" + str(train_loss / len(X_train)))\n",
    "    f.write('\\n')\n",
    "    train_loss = 0\n",
    "\n",
    "torch.save(cnn_model, 'CNN/' + 'cnn_big_model_500_with_padding.pth')\n",
    "\n",
    "f.close()\n",
    "print(\"Input vector\")\n",
    "print(bow_vec.cpu().numpy())\n",
    "print(\"Probs\")\n",
    "print(probs)\n",
    "print(torch.argmax(probs, dim=1).cpu().numpy()[0])"
   ]
  },
  {
   "cell_type": "markdown",
   "metadata": {},
   "source": [
    "Testing the model"
   ]
  },
  {
   "cell_type": "code",
   "execution_count": null,
   "metadata": {},
   "outputs": [
    {
     "name": "stdout",
     "output_type": "stream",
     "text": [
      "Index(['iter', ' loss'], dtype='object')\n",
      "              precision    recall  f1-score   support\n",
      "\n",
      "           1       0.67      1.00      0.80        14\n",
      "           2       1.00      0.36      0.53        11\n",
      "\n",
      "    accuracy                           0.72        25\n",
      "   macro avg       0.83      0.68      0.67        25\n",
      "weighted avg       0.81      0.72      0.68        25\n",
      "\n",
      "Index(['iter', ' loss'], dtype='object')\n"
     ]
    },
    {
     "data": {
      "image/png": "[encoded data removed]",
      "text/plain": [
       "<Figure size 432x288 with 1 Axes>"
      ]
     },
     "metadata": {
      "needs_background": "light"
     },
     "output_type": "display_data"
    }
   ],
   "source": [
    "from sklearn.metrics import classification_report\n",
    "bow_cnn_predictions = []\n",
    "original_lables_cnn_bow = []\n",
    "cnn_model.eval()\n",
    "loss_df = pd.read_csv('CNN/' +  'plots/' +'cnn_class_big_loss_with_padding.csv')\n",
    "print(loss_df.columns)\n",
    "# loss_df.plot('loss')\n",
    "with torch.no_grad():\n",
    "    for index, row in X_test.iterrows():\n",
    "        bow_vec = make_word2vec_vector_cnn(row['stemmed_tokens'])\n",
    "        probs = cnn_model(bow_vec)\n",
    "        _, predicted = torch.max(probs.data, 1)\n",
    "        bow_cnn_predictions.append(predicted.cpu().numpy()[0])\n",
    "        original_lables_cnn_bow.append(make_target(Y_test['haveBugs'][index]).cpu().numpy()[0])\n",
    "print(classification_report(original_lables_cnn_bow,bow_cnn_predictions))\n",
    "loss_file_name = 'CNN/' +  'plots/' + 'cnn_class_big_loss_with_padding.csv'\n",
    "loss_df = pd.read_csv(loss_file_name)\n",
    "print(loss_df.columns)\n",
    "plt_500_padding_30_epochs = loss_df[' loss'].plot()\n",
    "fig = plt_500_padding_30_epochs.get_figure()\n",
    "fig.savefig('CNN/' +'plots/' + 'loss_plt_500_padding_30_epochs.pdf')"
   ]
  }
 ],
 "metadata": {
  "interpreter": {
   "hash": "ee4488239c6fa38dff4966fe16af52ffb7f6a3e81a87d3252888b0f8931c9e83"
  },
  "kernelspec": {
   "display_name": "Python 3.10.1 64-bit",
   "language": "python",
   "name": "python3"
  },
  "language_info": {
   "codemirror_mode": {
    "name": "ipython",
    "version": 3
   },
   "file_extension": ".py",
   "mimetype": "text/x-python",
   "name": "python",
   "nbconvert_exporter": "python",
   "pygments_lexer": "ipython3",
   "version": "3.10.1"
  },
  "orig_nbformat": 4
 },
 "nbformat": 4,
 "nbformat_minor": 2
}
