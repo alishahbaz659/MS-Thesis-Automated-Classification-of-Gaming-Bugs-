{
 "cells": [
  {
   "cell_type": "markdown",
   "metadata": {},
   "source": [
    "Install this required tensirflow_text library for BERT analysis\n",
    "!pip install tensorflow_text"
   ]
  },
  {
   "cell_type": "code",
   "execution_count": 28,
   "metadata": {},
   "outputs": [],
   "source": [
    "import tensorflow as tf\n",
    "import tensorflow_hub as hub\n",
    "import tensorflow_text as tf_text\n",
    "import pandas as pd"
   ]
  },
  {
   "cell_type": "markdown",
   "metadata": {},
   "source": [
    "Required URL's for BERT analysis"
   ]
  },
  {
   "cell_type": "code",
   "execution_count": 29,
   "metadata": {},
   "outputs": [],
   "source": [
    "preprocess_url = 'https://tfhub.dev/tensorflow/bert_en_uncased_preprocess/3'\n",
    "\n",
    "encoder_url = 'https://tfhub.dev/tensorflow/bert_en_uncased_L-12_H-768_A-12/4'"
   ]
  },
  {
   "cell_type": "markdown",
   "metadata": {},
   "source": [
    "Reading the CSV file"
   ]
  },
  {
   "cell_type": "code",
   "execution_count": 30,
   "metadata": {},
   "outputs": [
    {
     "data": {
      "text/html": [
       "<div>\n",
       "<style scoped>\n",
       "    .dataframe tbody tr th:only-of-type {\n",
       "        vertical-align: middle;\n",
       "    }\n",
       "\n",
       "    .dataframe tbody tr th {\n",
       "        vertical-align: top;\n",
       "    }\n",
       "\n",
       "    .dataframe thead th {\n",
       "        text-align: right;\n",
       "    }\n",
       "</style>\n",
       "<table border=\"1\" class=\"dataframe\">\n",
       "  <thead>\n",
       "    <tr style=\"text-align: right;\">\n",
       "      <th></th>\n",
       "      <th>product_id</th>\n",
       "      <th>page</th>\n",
       "      <th>page_order</th>\n",
       "      <th>recommended</th>\n",
       "      <th>date</th>\n",
       "      <th>bugType</th>\n",
       "      <th>haveBugs</th>\n",
       "      <th>text</th>\n",
       "      <th>hours</th>\n",
       "      <th>username</th>\n",
       "      <th>products</th>\n",
       "      <th>early_access</th>\n",
       "      <th>products_ismissing</th>\n",
       "    </tr>\n",
       "  </thead>\n",
       "  <tbody>\n",
       "    <tr>\n",
       "      <th>0</th>\n",
       "      <td>1144200</td>\n",
       "      <td>1</td>\n",
       "      <td>2</td>\n",
       "      <td>True</td>\n",
       "      <td>01-01-22</td>\n",
       "      <td>na</td>\n",
       "      <td>0</td>\n",
       "      <td>love the game and would give it a 10 out 10 bu...</td>\n",
       "      <td>35.6</td>\n",
       "      <td>philcrest</td>\n",
       "      <td>31</td>\n",
       "      <td>True</td>\n",
       "      <td>False</td>\n",
       "    </tr>\n",
       "    <tr>\n",
       "      <th>1</th>\n",
       "      <td>108600</td>\n",
       "      <td>1</td>\n",
       "      <td>0</td>\n",
       "      <td>True</td>\n",
       "      <td>01-01-22</td>\n",
       "      <td>na</td>\n",
       "      <td>0</td>\n",
       "      <td>in what can only be described as a simplistic ...</td>\n",
       "      <td>6.5</td>\n",
       "      <td>ultramarine716</td>\n",
       "      <td>17</td>\n",
       "      <td>True</td>\n",
       "      <td>False</td>\n",
       "    </tr>\n",
       "    <tr>\n",
       "      <th>2</th>\n",
       "      <td>108600</td>\n",
       "      <td>1</td>\n",
       "      <td>7</td>\n",
       "      <td>False</td>\n",
       "      <td>01-01-22</td>\n",
       "      <td>invalid event occurance over time</td>\n",
       "      <td>1</td>\n",
       "      <td>fun game ruined by overly punishing update mor...</td>\n",
       "      <td>180.9</td>\n",
       "      <td>kobogen</td>\n",
       "      <td>157</td>\n",
       "      <td>True</td>\n",
       "      <td>False</td>\n",
       "    </tr>\n",
       "    <tr>\n",
       "      <th>3</th>\n",
       "      <td>108600</td>\n",
       "      <td>1</td>\n",
       "      <td>8</td>\n",
       "      <td>True</td>\n",
       "      <td>01-01-22</td>\n",
       "      <td>na</td>\n",
       "      <td>0</td>\n",
       "      <td>im a fan of 1st person graphics and a sucker f...</td>\n",
       "      <td>711.7</td>\n",
       "      <td>intorpere</td>\n",
       "      <td>93</td>\n",
       "      <td>True</td>\n",
       "      <td>False</td>\n",
       "    </tr>\n",
       "    <tr>\n",
       "      <th>4</th>\n",
       "      <td>1086940</td>\n",
       "      <td>1</td>\n",
       "      <td>0</td>\n",
       "      <td>True</td>\n",
       "      <td>01-01-22</td>\n",
       "      <td>na</td>\n",
       "      <td>0</td>\n",
       "      <td>great game in the making will be excessively e...</td>\n",
       "      <td>24.9</td>\n",
       "      <td>elkraf</td>\n",
       "      <td>46</td>\n",
       "      <td>True</td>\n",
       "      <td>False</td>\n",
       "    </tr>\n",
       "  </tbody>\n",
       "</table>\n",
       "</div>"
      ],
      "text/plain": [
       "   product_id  page  page_order  recommended      date  \\\n",
       "0     1144200     1           2         True  01-01-22   \n",
       "1      108600     1           0         True  01-01-22   \n",
       "2      108600     1           7        False  01-01-22   \n",
       "3      108600     1           8         True  01-01-22   \n",
       "4     1086940     1           0         True  01-01-22   \n",
       "\n",
       "                             bugType  haveBugs  \\\n",
       "0                                 na         0   \n",
       "1                                 na         0   \n",
       "2  invalid event occurance over time         1   \n",
       "3                                 na         0   \n",
       "4                                 na         0   \n",
       "\n",
       "                                                text  hours        username  \\\n",
       "0  love the game and would give it a 10 out 10 bu...   35.6       philcrest   \n",
       "1  in what can only be described as a simplistic ...    6.5  ultramarine716   \n",
       "2  fun game ruined by overly punishing update mor...  180.9         kobogen   \n",
       "3  im a fan of 1st person graphics and a sucker f...  711.7       intorpere   \n",
       "4  great game in the making will be excessively e...   24.9          elkraf   \n",
       "\n",
       "   products  early_access  products_ismissing  \n",
       "0        31          True               False  \n",
       "1        17          True               False  \n",
       "2       157          True               False  \n",
       "3        93          True               False  \n",
       "4        46          True               False  "
      ]
     },
     "execution_count": 30,
     "metadata": {},
     "output_type": "execute_result"
    }
   ],
   "source": [
    "data = pd.read_csv(\"Dataset/cleanedReviewsDateset100.csv\")\n",
    "data.head(5)"
   ]
  },
  {
   "cell_type": "markdown",
   "metadata": {},
   "source": [
    "Data preprocessing"
   ]
  },
  {
   "cell_type": "code",
   "execution_count": 31,
   "metadata": {},
   "outputs": [],
   "source": [
    "X, y = (data['text'].values, data['haveBugs'].values)"
   ]
  },
  {
   "cell_type": "markdown",
   "metadata": {},
   "source": [
    "Text data has to be integer encoded before feeding it into the RNN model. This can be easily achieved by using basic tools from the Keras library with only a few lines of code:"
   ]
  },
  {
   "cell_type": "code",
   "execution_count": 32,
   "metadata": {},
   "outputs": [],
   "source": [
    "from keras.preprocessing.text import Tokenizer\n",
    "from keras.preprocessing.sequence import pad_sequences\n",
    "\n",
    "tk = Tokenizer(lower = True)\n",
    "tk.fit_on_texts(X)\n",
    "X_seq = tk.texts_to_sequences(X)\n",
    "X_pad = pad_sequences(X_seq, maxlen=100, padding='post')"
   ]
  },
  {
   "cell_type": "markdown",
   "metadata": {},
   "source": [
    "Now, we split the data set into training and testing using sklearn’s train_test_split and keeping 25% of original data as a hold out set:"
   ]
  },
  {
   "cell_type": "code",
   "execution_count": 33,
   "metadata": {},
   "outputs": [],
   "source": [
    "from sklearn.model_selection import train_test_split\n",
    "X_train, X_test, y_train, y_test = train_test_split(X_pad, y, test_size = 0.25, random_state = 1)"
   ]
  },
  {
   "cell_type": "markdown",
   "metadata": {},
   "source": [
    "Furthemore, the training set can be split into training and validation set:"
   ]
  },
  {
   "cell_type": "code",
   "execution_count": 34,
   "metadata": {},
   "outputs": [],
   "source": [
    "batch_size = 64\n",
    "X_train1 = X_train[batch_size:]\n",
    "y_train1 = y_train[batch_size:]\n",
    "X_valid = X_train[:batch_size]\n",
    "y_valid = y_train[:batch_size]"
   ]
  },
  {
   "cell_type": "markdown",
   "metadata": {},
   "source": [
    "It is time to build the model and fit it on the training data using Keras:"
   ]
  },
  {
   "cell_type": "code",
   "execution_count": 35,
   "metadata": {},
   "outputs": [
    {
     "name": "stdout",
     "output_type": "stream",
     "text": [
      "Epoch 1/10\n",
      "1/1 [==============================] - 2s 2s/step - loss: 0.6927 - accuracy: 0.6000 - val_loss: 0.6871 - val_accuracy: 0.6094\n",
      "Epoch 2/10\n",
      "1/1 [==============================] - 0s 97ms/step - loss: 0.6883 - accuracy: 0.6000 - val_loss: 0.6816 - val_accuracy: 0.6094\n",
      "Epoch 3/10\n",
      "1/1 [==============================] - 0s 95ms/step - loss: 0.6837 - accuracy: 0.6000 - val_loss: 0.6752 - val_accuracy: 0.6094\n",
      "Epoch 4/10\n",
      "1/1 [==============================] - 0s 93ms/step - loss: 0.6783 - accuracy: 0.6000 - val_loss: 0.6669 - val_accuracy: 0.6094\n",
      "Epoch 5/10\n",
      "1/1 [==============================] - 0s 99ms/step - loss: 0.6719 - accuracy: 0.6000 - val_loss: 0.6556 - val_accuracy: 0.6094\n",
      "Epoch 6/10\n",
      "1/1 [==============================] - 0s 93ms/step - loss: 0.6652 - accuracy: 0.6000 - val_loss: 0.6467 - val_accuracy: 0.6094\n",
      "Epoch 7/10\n",
      "1/1 [==============================] - 0s 101ms/step - loss: 0.6716 - accuracy: 0.6000 - val_loss: 0.6486 - val_accuracy: 0.6094\n",
      "Epoch 8/10\n",
      "1/1 [==============================] - 0s 89ms/step - loss: 0.6620 - accuracy: 0.6000 - val_loss: 0.6528 - val_accuracy: 0.6094\n",
      "Epoch 9/10\n",
      "1/1 [==============================] - 0s 88ms/step - loss: 0.6587 - accuracy: 0.6000 - val_loss: 0.6560 - val_accuracy: 0.6094\n",
      "Epoch 10/10\n",
      "1/1 [==============================] - 0s 90ms/step - loss: 0.6579 - accuracy: 0.6000 - val_loss: 0.6575 - val_accuracy: 0.6094\n",
      "Test Accuracy 0.6000000238418579\n"
     ]
    }
   ],
   "source": [
    "from keras.models import Sequential\n",
    "from keras.layers import Embedding, LSTM, Dense, Dropout\n",
    "vocabulary_size = len(tk.word_counts.keys())+1\n",
    "max_words = 100\n",
    "embedding_size = 32\n",
    "model = Sequential()\n",
    "model.add(Embedding(vocabulary_size, embedding_size, input_length=max_words))\n",
    "model.add(LSTM(200))\n",
    "model.add(Dense(1, activation='sigmoid'))\n",
    "model.compile(loss='binary_crossentropy', optimizer='adam', metrics=['accuracy'])\n",
    "# print(model.summary())\n",
    "\n",
    "model.fit(X_train1,y_train1,validation_data=(X_valid,y_valid),batch_size=batch_size,epochs=10)\n",
    "scores=model.evaluate(X_test,y_test,verbose=0)\n",
    "print(\"Test Accuracy\", scores[1])"
   ]
  },
  {
   "cell_type": "code",
   "execution_count": 36,
   "metadata": {},
   "outputs": [],
   "source": [
    "# bert_preprocess_model = hub.KerasLayer(preprocess_url)\n",
    "# text_test =data.text\n",
    "# text_preprocessed = bert_preprocess_model(text_test)\n",
    "# text_preprocessed.keys()\n",
    "# text_preprocessed.values()"
   ]
  }
 ],
 "metadata": {
  "interpreter": {
   "hash": "04c454af8dcba4ffd51d9f2a111662a74e12e3c4adee75c16ec6fee7890455df"
  },
  "kernelspec": {
   "display_name": "Python 3.9.1 64-bit",
   "language": "python",
   "name": "python3"
  },
  "language_info": {
   "codemirror_mode": {
    "name": "ipython",
    "version": 3
   },
   "file_extension": ".py",
   "mimetype": "text/x-python",
   "name": "python",
   "nbconvert_exporter": "python",
   "pygments_lexer": "ipython3",
   "version": "3.10.1"
  },
  "orig_nbformat": 4
 },
 "nbformat": 4,
 "nbformat_minor": 2
}
